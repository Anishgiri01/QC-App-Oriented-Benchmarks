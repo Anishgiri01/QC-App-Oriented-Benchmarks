{
 "cells": [
  {
   "cell_type": "markdown",
   "metadata": {},
   "source": [
    "### QED-C Prototype Benchmarks - Qiskit Version\n",
    "The notebook contains a suite of prototype application benchmarks for the IBM Qiskit API.\n",
    "Configure and run the cell below with the desired execution settings.\n",
    "Then execute the remaining cells, each containing one prototype benchmark program."
   ]
  },
  {
   "cell_type": "code",
   "execution_count": 7,
   "metadata": {
    "scrolled": true
   },
   "outputs": [
    {
     "name": "stderr",
     "output_type": "stream",
     "text": [
      "BQ-PYTHON-SDK - WARNING - Development version 0.2.2b1 of BlueQubit Python SDK is being used\n",
      "WARNING:bluequbit-python-sdk:Development version 0.2.2b1 of BlueQubit Python SDK is being used\n"
     ]
    }
   ],
   "source": [
    "min_qubits=6\n",
    "max_qubits=18\n",
    "max_circuits=1\n",
    "num_shots=1000\n",
    "\n",
    "backend_id=\"qasm_simulator\"\n",
    "hub=\"ibm-q\"; group=\"open\"; project=\"main\"\n",
    "provider_backend = None\n",
    "exec_options = None\n",
    "\n",
    "# # *** If using IBMQ hardware, run this once to authenticate\n",
    "# from qiskit import IBMQ\n",
    "# IBMQ.save_account('YOUR_API_TOKEN_HERE')\n",
    "\n",
    "# # *** If you are part of an IBMQ group, set hub, group, and project name here\n",
    "# hub=\"YOUR_HUB_NAME\"\n",
    "# group=\"YOUR_GROUP_NAME\"\n",
    "# project=\"YOUR_PROJECT_NAME\"\n",
    "\n",
    "# # *** This example shows how to specify the backend using a known \"backend_id\"\n",
    "# # Use 'sabre' layout for IBM backends\n",
    "# exec_options = { \"optimization_level\":3, \"layout_method\":'sabre', \"routing_method\":'sabre',\n",
    "#                  \"use_sessions\":True, \"resilience_level\":1}\n",
    "# backend_id=\"ibmq_belem\"\n",
    "\n",
    "# # *** Here's an example of using a typical custom provider backend (e.g. AQT simulator)\n",
    "# import os\n",
    "# from qiskit_aqt_provider import AQTProvider\n",
    "# provider = AQTProvider(os.environ.get('AQT_ACCESS_KEY'))    # get your key from environment\n",
    "# provider_backend = provider.backends.aqt_qasm_simulator_noise_1\n",
    "# backend_id=\"aqt_qasm_simulator_noise_1\"\n",
    "\n",
    "# # An example using IonQ provider\n",
    "# from qiskit_ionq import IonQProvider\n",
    "# provider = IonQProvider()   # Be sure to set the QISKIT_IONQ_API_TOKEN environment variable\n",
    "# provider_backend = provider.get_backend(\"ionq_qpu\")\n",
    "# backend_id=\"ionq_qpu\"\n",
    "\n",
    "# # *** Use these lines when running on hardware backend, to limit use of resources\n",
    "# min_qubits=2\n",
    "# max_qubits=5\n",
    "# max_circuits=1\n",
    "# num_shots=100\n",
    "\n",
    "# An example using BlueQubit provider\n",
    "import os, bluequbit\n",
    "provider_backend = bluequbit.init(os.environ.get('BLUEQUBIT_API_TOKEN'))\n",
    "backend_id=\"BlueQubit-CPU\"\n",
    "os.environ.get('AQT_ACCESS_KEY')\n",
    "import types\n",
    "def bq_name(backend):\n",
    "    return backend_id\n",
    "\n",
    "provider_backend.name = types.MethodType( bq_name, provider_backend )\n",
    "\n",
    "import _common.executors.bluequbit_executor as bluequbit_executor\n",
    "exec_options = { \"executor\": bluequbit_executor.run }\n",
    "\n"
   ]
  },
  {
   "cell_type": "code",
   "execution_count": null,
   "metadata": {},
   "outputs": [],
   "source": [
    "# Custom optimization options can be specified in this cell (below is an example)\n",
    "\n",
    "# # Example of pytket Transformer\n",
    "# import _common.transformers.tket_optimiser as tket_optimiser\n",
    "# exec_options = { \"optimization_level\": 3, \"layout_method\":'sabre', \"routing_method\":'sabre', \"transformer\": tket_optimiser.high_optimisation }\n",
    "\n",
    "# # Define a custom noise model to be used during execution\n",
    "# import _common.custom.custom_qiskit_noise_model as custom_qiskit_noise_model\n",
    "# exec_options = { \"noise_model\": custom_qiskit_noise_model.my_noise_model() }\n",
    "\n",
    "# # Example of mthree error mitigation\n",
    "# import _common.postprocessors.mthree.mthree_em as mthree_em\n",
    "# exec_options = { \"optimization_level\": 3, \"layout_method\":'sabre', \"routing_method\":'sabre',\n",
    "#                         \"postprocessor\": mthree_em.get_mthree_handlers(backend_id, provider_backend) }\n",
    "\n",
    "# Example of a custom Executor (BlueQubit)\n",
    "import _common.executors.bluequbit_executor as bluequbit_executor\n",
    "exec_options = { \"executor\": bluequbit_executor.run }\n"
   ]
  },
  {
   "cell_type": "markdown",
   "metadata": {},
   "source": [
    "### Deutsch-Jozsa"
   ]
  },
  {
   "cell_type": "code",
   "execution_count": null,
   "metadata": {
    "tags": []
   },
   "outputs": [],
   "source": [
    "import sys\n",
    "sys.path.insert(1, \"deutsch-jozsa/qiskit\")\n",
    "import dj_benchmark\n",
    "dj_benchmark.run(min_qubits=min_qubits, max_qubits=max_qubits, max_circuits=max_circuits, num_shots=num_shots,\n",
    "                backend_id=backend_id, provider_backend=provider_backend,\n",
    "                hub=hub, group=group, project=project, exec_options=exec_options)"
   ]
  },
  {
   "cell_type": "markdown",
   "metadata": {},
   "source": [
    "### Bernstein-Vazirani - Method 1"
   ]
  },
  {
   "cell_type": "code",
   "execution_count": 8,
   "metadata": {
    "scrolled": false
   },
   "outputs": [
    {
     "name": "stdout",
     "output_type": "stream",
     "text": [
      "Bernstein-Vazirani Benchmark Program - Qiskit\n",
      "... execution starting at Aug 08, 2023 05:29:07 UTC\n",
      "************\n",
      "Executing [1] circuits with num_qubits = 6\n"
     ]
    },
    {
     "name": "stderr",
     "output_type": "stream",
     "text": [
      "BQ-PYTHON-SDK - INFO - Submitted: Job ID: 3zXZQmrQhjac0xMg, device: cpu, run status: RUNNING, created on: 2023-08-08 05:29:06 UTC, estimated runtime: 100 ms, estimated cost: $0.00, num qubits: 6\n",
      "INFO:bluequbit-python-sdk:Submitted: Job ID: 3zXZQmrQhjac0xMg, device: cpu, run status: RUNNING, created on: 2023-08-08 05:29:06 UTC, estimated runtime: 100 ms, estimated cost: $0.00, num qubits: 6\n"
     ]
    },
    {
     "name": "stdout",
     "output_type": "stream",
     "text": [
      "************\n",
      "Average Circuit Algorithmic Depth, ξ (xi) for the 6 qubit group = 6, 0.067\n",
      "Average Normalized Transpiled Depth, ξ (xi), 2q gates for the 6 qubit group = 6, 0.043, 1.0\n",
      "Average Creation, Elapsed, Execution Time for the 6 qubit group = 0.001, 0.377, 0.005 secs\n",
      "Average Hellinger, Normalized Fidelity for the 6 qubit group = 1.0, 1.0\n",
      "\n",
      "************\n",
      "Executing [1] circuits with num_qubits = 7\n"
     ]
    },
    {
     "name": "stderr",
     "output_type": "stream",
     "text": [
      "BQ-PYTHON-SDK - INFO - Submitted: Job ID: 20hcPS0zBiWp6gjp, device: cpu, run status: RUNNING, created on: 2023-08-08 05:29:07 UTC, estimated runtime: 100 ms, estimated cost: $0.00, num qubits: 7\n",
      "INFO:bluequbit-python-sdk:Submitted: Job ID: 20hcPS0zBiWp6gjp, device: cpu, run status: RUNNING, created on: 2023-08-08 05:29:07 UTC, estimated runtime: 100 ms, estimated cost: $0.00, num qubits: 7\n"
     ]
    },
    {
     "name": "stdout",
     "output_type": "stream",
     "text": [
      "************\n",
      "Average Circuit Algorithmic Depth, ξ (xi) for the 7 qubit group = 9, 0.2\n",
      "Average Normalized Transpiled Depth, ξ (xi), 2q gates for the 7 qubit group = 9, 0.133, 4.0\n",
      "Average Creation, Elapsed, Execution Time for the 7 qubit group = 0.001, 0.407, 0.006 secs\n",
      "Average Hellinger, Normalized Fidelity for the 7 qubit group = 1.0, 1.0\n",
      "\n",
      "************\n",
      "Executing [1] circuits with num_qubits = 8\n"
     ]
    },
    {
     "name": "stderr",
     "output_type": "stream",
     "text": [
      "BQ-PYTHON-SDK - INFO - Submitted: Job ID: KfBrilA9WQ3rE3oB, device: cpu, run status: RUNNING, created on: 2023-08-08 05:29:07 UTC, estimated runtime: 100 ms, estimated cost: $0.00, num qubits: 8\n",
      "INFO:bluequbit-python-sdk:Submitted: Job ID: KfBrilA9WQ3rE3oB, device: cpu, run status: RUNNING, created on: 2023-08-08 05:29:07 UTC, estimated runtime: 100 ms, estimated cost: $0.00, num qubits: 8\n"
     ]
    },
    {
     "name": "stdout",
     "output_type": "stream",
     "text": [
      "************\n",
      "Average Circuit Algorithmic Depth, ξ (xi) for the 8 qubit group = 11, 0.25\n",
      "Average Normalized Transpiled Depth, ξ (xi), 2q gates for the 8 qubit group = 11, 0.167, 6.0\n",
      "Average Creation, Elapsed, Execution Time for the 8 qubit group = 0.001, 0.374, 0.007 secs\n",
      "Average Hellinger, Normalized Fidelity for the 8 qubit group = 1.0, 1.0\n",
      "\n",
      "************\n",
      "Executing [1] circuits with num_qubits = 9\n"
     ]
    },
    {
     "name": "stderr",
     "output_type": "stream",
     "text": [
      "BQ-PYTHON-SDK - INFO - Submitted: Job ID: VKoYCmEEP3CDJ2uB, device: cpu, run status: RUNNING, created on: 2023-08-08 05:29:08 UTC, estimated runtime: 100 ms, estimated cost: $0.00, num qubits: 9\n",
      "INFO:bluequbit-python-sdk:Submitted: Job ID: VKoYCmEEP3CDJ2uB, device: cpu, run status: RUNNING, created on: 2023-08-08 05:29:08 UTC, estimated runtime: 100 ms, estimated cost: $0.00, num qubits: 9\n"
     ]
    },
    {
     "name": "stdout",
     "output_type": "stream",
     "text": [
      "************\n",
      "Average Circuit Algorithmic Depth, ξ (xi) for the 9 qubit group = 8, 0.13\n",
      "Average Normalized Transpiled Depth, ξ (xi), 2q gates for the 9 qubit group = 8, 0.081, 3.0\n",
      "Average Creation, Elapsed, Execution Time for the 9 qubit group = 0.001, 0.499, 0.007 secs\n",
      "Average Hellinger, Normalized Fidelity for the 9 qubit group = 1.0, 1.0\n",
      "\n",
      "************\n",
      "Executing [1] circuits with num_qubits = 10\n"
     ]
    },
    {
     "name": "stderr",
     "output_type": "stream",
     "text": [
      "BQ-PYTHON-SDK - INFO - Submitted: Job ID: sxfQ7LpRPps2v58v, device: cpu, run status: RUNNING, created on: 2023-08-08 05:29:08 UTC, estimated runtime: 100 ms, estimated cost: $0.00, num qubits: 10\n",
      "INFO:bluequbit-python-sdk:Submitted: Job ID: sxfQ7LpRPps2v58v, device: cpu, run status: RUNNING, created on: 2023-08-08 05:29:08 UTC, estimated runtime: 100 ms, estimated cost: $0.00, num qubits: 10\n"
     ]
    },
    {
     "name": "stdout",
     "output_type": "stream",
     "text": [
      "************\n",
      "Average Circuit Algorithmic Depth, ξ (xi) for the 10 qubit group = 8, 0.12\n",
      "Average Normalized Transpiled Depth, ξ (xi), 2q gates for the 10 qubit group = 8, 0.073, 3.0\n",
      "Average Creation, Elapsed, Execution Time for the 10 qubit group = 0.001, 0.391, 0.008 secs\n",
      "Average Hellinger, Normalized Fidelity for the 10 qubit group = 1.0, 1.0\n",
      "\n",
      "************\n",
      "Executing [1] circuits with num_qubits = 11\n"
     ]
    },
    {
     "name": "stderr",
     "output_type": "stream",
     "text": [
      "BQ-PYTHON-SDK - INFO - Submitted: Job ID: a0xMmL1tLQCLnEjt, device: cpu, run status: RUNNING, created on: 2023-08-08 05:29:09 UTC, estimated runtime: 100 ms, estimated cost: $0.00, num qubits: 11\n",
      "INFO:bluequbit-python-sdk:Submitted: Job ID: a0xMmL1tLQCLnEjt, device: cpu, run status: RUNNING, created on: 2023-08-08 05:29:09 UTC, estimated runtime: 100 ms, estimated cost: $0.00, num qubits: 11\n"
     ]
    },
    {
     "name": "stdout",
     "output_type": "stream",
     "text": [
      "************\n",
      "Average Circuit Algorithmic Depth, ξ (xi) for the 11 qubit group = 8, 0.111\n",
      "Average Normalized Transpiled Depth, ξ (xi), 2q gates for the 11 qubit group = 8, 0.067, 3.0\n",
      "Average Creation, Elapsed, Execution Time for the 11 qubit group = 0.001, 0.401, 0.008 secs\n",
      "Average Hellinger, Normalized Fidelity for the 11 qubit group = 1.0, 1.0\n",
      "\n",
      "************\n",
      "Executing [1] circuits with num_qubits = 12\n"
     ]
    },
    {
     "name": "stderr",
     "output_type": "stream",
     "text": [
      "BQ-PYTHON-SDK - INFO - Submitted: Job ID: IKs5XBBugDszK75N, device: cpu, run status: RUNNING, created on: 2023-08-08 05:29:09 UTC, estimated runtime: 100 ms, estimated cost: $0.00, num qubits: 12\n",
      "INFO:bluequbit-python-sdk:Submitted: Job ID: IKs5XBBugDszK75N, device: cpu, run status: RUNNING, created on: 2023-08-08 05:29:09 UTC, estimated runtime: 100 ms, estimated cost: $0.00, num qubits: 12\n"
     ]
    },
    {
     "name": "stdout",
     "output_type": "stream",
     "text": [
      "************\n",
      "Average Circuit Algorithmic Depth, ξ (xi) for the 12 qubit group = 9, 0.133\n",
      "Average Normalized Transpiled Depth, ξ (xi), 2q gates for the 12 qubit group = 9, 0.08, 4.0\n",
      "Average Creation, Elapsed, Execution Time for the 12 qubit group = 0.003, 0.408, 0.009 secs\n",
      "Average Hellinger, Normalized Fidelity for the 12 qubit group = 1.0, 1.0\n",
      "\n",
      "************\n",
      "Executing [1] circuits with num_qubits = 13\n"
     ]
    },
    {
     "name": "stderr",
     "output_type": "stream",
     "text": [
      "BQ-PYTHON-SDK - INFO - Submitted: Job ID: 94qGdDw3PVWJILxN, device: cpu, run status: RUNNING, created on: 2023-08-08 05:29:09 UTC, estimated runtime: 100 ms, estimated cost: $0.00, num qubits: 13\n",
      "INFO:bluequbit-python-sdk:Submitted: Job ID: 94qGdDw3PVWJILxN, device: cpu, run status: RUNNING, created on: 2023-08-08 05:29:09 UTC, estimated runtime: 100 ms, estimated cost: $0.00, num qubits: 13\n"
     ]
    },
    {
     "name": "stdout",
     "output_type": "stream",
     "text": [
      "************\n",
      "Average Circuit Algorithmic Depth, ξ (xi) for the 13 qubit group = 12, 0.2\n",
      "Average Normalized Transpiled Depth, ξ (xi), 2q gates for the 13 qubit group = 12, 0.123, 7.0\n",
      "Average Creation, Elapsed, Execution Time for the 13 qubit group = 0.004, 0.426, 0.01 secs\n",
      "Average Hellinger, Normalized Fidelity for the 13 qubit group = 1.0, 1.0\n",
      "\n",
      "************\n",
      "Executing [1] circuits with num_qubits = 14\n"
     ]
    },
    {
     "name": "stderr",
     "output_type": "stream",
     "text": [
      "BQ-PYTHON-SDK - INFO - Submitted: Job ID: oNJv4jZz9MdzU3bH, device: cpu, run status: RUNNING, created on: 2023-08-08 05:29:10 UTC, estimated runtime: 100 ms, estimated cost: $0.00, num qubits: 14\n",
      "INFO:bluequbit-python-sdk:Submitted: Job ID: oNJv4jZz9MdzU3bH, device: cpu, run status: RUNNING, created on: 2023-08-08 05:29:10 UTC, estimated runtime: 100 ms, estimated cost: $0.00, num qubits: 14\n"
     ]
    },
    {
     "name": "stdout",
     "output_type": "stream",
     "text": [
      "************\n",
      "Average Circuit Algorithmic Depth, ξ (xi) for the 14 qubit group = 11, 0.167\n",
      "Average Normalized Transpiled Depth, ξ (xi), 2q gates for the 14 qubit group = 11, 0.1, 6.0\n",
      "Average Creation, Elapsed, Execution Time for the 14 qubit group = 0.002, 1.541, 0.011 secs\n",
      "Average Hellinger, Normalized Fidelity for the 14 qubit group = 1.0, 1.0\n",
      "\n",
      "************\n",
      "Executing [1] circuits with num_qubits = 15\n"
     ]
    },
    {
     "name": "stderr",
     "output_type": "stream",
     "text": [
      "BQ-PYTHON-SDK - INFO - Submitted: Job ID: BGZuCkIZpgjz0fZO, device: cpu, run status: RUNNING, created on: 2023-08-08 05:29:11 UTC, estimated runtime: 100 ms, estimated cost: $0.00, num qubits: 15\n",
      "INFO:bluequbit-python-sdk:Submitted: Job ID: BGZuCkIZpgjz0fZO, device: cpu, run status: RUNNING, created on: 2023-08-08 05:29:11 UTC, estimated runtime: 100 ms, estimated cost: $0.00, num qubits: 15\n"
     ]
    },
    {
     "name": "stdout",
     "output_type": "stream",
     "text": [
      "************\n",
      "Average Circuit Algorithmic Depth, ξ (xi) for the 15 qubit group = 13, 0.2\n",
      "Average Normalized Transpiled Depth, ξ (xi), 2q gates for the 15 qubit group = 13, 0.121, 8.0\n",
      "Average Creation, Elapsed, Execution Time for the 15 qubit group = 0.001, 1.859, 0.012 secs\n",
      "Average Hellinger, Normalized Fidelity for the 15 qubit group = 1.0, 1.0\n",
      "\n",
      "************\n",
      "Executing [1] circuits with num_qubits = 16\n"
     ]
    },
    {
     "name": "stderr",
     "output_type": "stream",
     "text": [
      "BQ-PYTHON-SDK - INFO - Submitted: Job ID: raha6vU4emAEGRGj, device: cpu, run status: RUNNING, created on: 2023-08-08 05:29:13 UTC, estimated runtime: 100 ms, estimated cost: $0.00, num qubits: 16\n",
      "INFO:bluequbit-python-sdk:Submitted: Job ID: raha6vU4emAEGRGj, device: cpu, run status: RUNNING, created on: 2023-08-08 05:29:13 UTC, estimated runtime: 100 ms, estimated cost: $0.00, num qubits: 16\n"
     ]
    },
    {
     "name": "stdout",
     "output_type": "stream",
     "text": [
      "************\n",
      "Average Circuit Algorithmic Depth, ξ (xi) for the 16 qubit group = 14, 0.209\n",
      "Average Normalized Transpiled Depth, ξ (xi), 2q gates for the 16 qubit group = 14, 0.127, 9.0\n",
      "Average Creation, Elapsed, Execution Time for the 16 qubit group = 0.002, 1.604, 0.015 secs\n",
      "Average Hellinger, Normalized Fidelity for the 16 qubit group = 1.0, 1.0\n",
      "\n",
      "************\n",
      "Executing [1] circuits with num_qubits = 17\n"
     ]
    },
    {
     "name": "stderr",
     "output_type": "stream",
     "text": [
      "BQ-PYTHON-SDK - INFO - Submitted: Job ID: g0QEEf1XMXFt6TzG, device: cpu, run status: RUNNING, created on: 2023-08-08 05:29:15 UTC, estimated runtime: 100 ms, estimated cost: $0.00, num qubits: 17\n",
      "INFO:bluequbit-python-sdk:Submitted: Job ID: g0QEEf1XMXFt6TzG, device: cpu, run status: RUNNING, created on: 2023-08-08 05:29:15 UTC, estimated runtime: 100 ms, estimated cost: $0.00, num qubits: 17\n"
     ]
    },
    {
     "name": "stdout",
     "output_type": "stream",
     "text": [
      "************\n",
      "Average Circuit Algorithmic Depth, ξ (xi) for the 17 qubit group = 12, 0.163\n",
      "Average Normalized Transpiled Depth, ξ (xi), 2q gates for the 17 qubit group = 12, 0.096, 7.0\n",
      "Average Creation, Elapsed, Execution Time for the 17 qubit group = 0.002, 0.464, 0.015 secs\n",
      "Average Hellinger, Normalized Fidelity for the 17 qubit group = 1.0, 1.0\n",
      "\n",
      "************\n",
      "Executing [1] circuits with num_qubits = 18\n"
     ]
    },
    {
     "name": "stderr",
     "output_type": "stream",
     "text": [
      "BQ-PYTHON-SDK - INFO - Submitted: Job ID: Wa9DOv6II4NuQ4h1, device: cpu, run status: RUNNING, created on: 2023-08-08 05:29:16 UTC, estimated runtime: 100 ms, estimated cost: $0.00, num qubits: 18\n",
      "INFO:bluequbit-python-sdk:Submitted: Job ID: Wa9DOv6II4NuQ4h1, device: cpu, run status: RUNNING, created on: 2023-08-08 05:29:16 UTC, estimated runtime: 100 ms, estimated cost: $0.00, num qubits: 18\n"
     ]
    },
    {
     "name": "stdout",
     "output_type": "stream",
     "text": [
      "************\n",
      "Average Circuit Algorithmic Depth, ξ (xi) for the 18 qubit group = 14, 0.191\n",
      "Average Normalized Transpiled Depth, ξ (xi), 2q gates for the 18 qubit group = 14, 0.114, 9.0\n",
      "Average Creation, Elapsed, Execution Time for the 18 qubit group = 0.001, 0.456, 0.02 secs\n",
      "Average Hellinger, Normalized Fidelity for the 18 qubit group = 1.0, 1.0\n",
      "\n",
      "... execution complete at Aug 08, 2023 05:29:17 UTC in 9.436 secs\n",
      "\n",
      "Sample Circuit:\n",
      "        ┌───┐      ░ ┌─────┐ ░ ┌───┐      ░ ┌─┐            \n",
      "q237_0: ┤ H ├──────░─┤0    ├─░─┤ H ├──────░─┤M├────────────\n",
      "        ├───┤      ░ │     │ ░ ├───┤      ░ └╥┘┌─┐         \n",
      "q237_1: ┤ H ├──────░─┤1    ├─░─┤ H ├──────░──╫─┤M├─────────\n",
      "        ├───┤      ░ │     │ ░ ├───┤      ░  ║ └╥┘┌─┐      \n",
      "q237_2: ┤ H ├──────░─┤2    ├─░─┤ H ├──────░──╫──╫─┤M├──────\n",
      "        ├───┤      ░ │  Uf │ ░ ├───┤      ░  ║  ║ └╥┘┌─┐   \n",
      "q237_3: ┤ H ├──────░─┤3    ├─░─┤ H ├──────░──╫──╫──╫─┤M├───\n",
      "        ├───┤      ░ │     │ ░ ├───┤      ░  ║  ║  ║ └╥┘┌─┐\n",
      "q237_4: ┤ H ├──────░─┤4    ├─░─┤ H ├──────░──╫──╫──╫──╫─┤M├\n",
      "        ├───┤┌───┐ ░ │     │ ░ ├───┤┌───┐ ░  ║  ║  ║  ║ └╥┘\n",
      "q237_5: ┤ X ├┤ H ├─░─┤5    ├─░─┤ H ├┤ X ├─░──╫──╫──╫──╫──╫─\n",
      "        └───┘└───┘ ░ └─────┘ ░ └───┘└───┘ ░  ║  ║  ║  ║  ║ \n",
      " c32: 5/═════════════════════════════════════╩══╩══╩══╩══╩═\n",
      "                                             0  1  2  3  4 \n",
      "\n",
      "Quantum Oracle 'Uf' =\n",
      "             \n",
      "q238_0: ──■──\n",
      "          │  \n",
      "q238_1: ──┼──\n",
      "          │  \n",
      "q238_2: ──┼──\n",
      "          │  \n",
      "q238_3: ──┼──\n",
      "          │  \n",
      "q238_4: ──┼──\n",
      "        ┌─┴─┐\n",
      "q238_5: ┤ X ├\n",
      "        └───┘\n"
     ]
    },
    {
     "data": {
      "image/png": "[encoded data removed]",
      "text/plain": [
       "<Figure size 432x738 with 4 Axes>"
      ]
     },
     "metadata": {
      "needs_background": "light"
     },
     "output_type": "display_data"
    },
    {
     "data": {
      "image/png": "[encoded data removed]",
      "text/plain": [
       "<Figure size 489.6x570.109 with 2 Axes>"
      ]
     },
     "metadata": {
      "needs_background": "light"
     },
     "output_type": "display_data"
    }
   ],
   "source": [
    "import sys\n",
    "sys.path.insert(1, \"bernstein-vazirani/qiskit\")\n",
    "import bv_benchmark\n",
    "bv_benchmark.run(min_qubits=min_qubits, max_qubits=max_qubits, max_circuits=max_circuits, num_shots=num_shots,\n",
    "                method=1,\n",
    "                backend_id=backend_id, provider_backend=provider_backend,\n",
    "                hub=hub, group=group, project=project, exec_options=exec_options)"
   ]
  },
  {
   "cell_type": "markdown",
   "metadata": {},
   "source": [
    "### Bernstein-Vazirani - Method 2"
   ]
  },
  {
   "cell_type": "code",
   "execution_count": null,
   "metadata": {
    "tags": []
   },
   "outputs": [],
   "source": [
    "import sys\n",
    "sys.path.insert(1, \"bernstein-vazirani/qiskit\")\n",
    "import bv_benchmark\n",
    "bv_benchmark.run(min_qubits=min_qubits, max_qubits=max_qubits, max_circuits=max_circuits, num_shots=num_shots,\n",
    "                method=2,\n",
    "                backend_id=backend_id, provider_backend=provider_backend,\n",
    "                hub=hub, group=group, project=project, exec_options=exec_options)"
   ]
  },
  {
   "cell_type": "markdown",
   "metadata": {},
   "source": [
    "### Hidden Shift"
   ]
  },
  {
   "cell_type": "code",
   "execution_count": null,
   "metadata": {},
   "outputs": [],
   "source": [
    "import sys\n",
    "sys.path.insert(1, \"hidden-shift/qiskit\")\n",
    "import hs_benchmark\n",
    "hs_benchmark.run(min_qubits=min_qubits, max_qubits=max_qubits, max_circuits=max_circuits, num_shots=num_shots,\n",
    "                backend_id=backend_id, provider_backend=provider_backend,\n",
    "                hub=hub, group=group, project=project, exec_options=exec_options)"
   ]
  },
  {
   "cell_type": "markdown",
   "metadata": {},
   "source": [
    "### Quantum Fourier Transform - Method 1"
   ]
  },
  {
   "cell_type": "code",
   "execution_count": 9,
   "metadata": {
    "scrolled": false
   },
   "outputs": [
    {
     "name": "stdout",
     "output_type": "stream",
     "text": [
      "Quantum Fourier Transform Benchmark Program - Qiskit\n",
      "... using circuit method 1\n",
      "... execution starting at Aug 08, 2023 05:29:27 UTC\n",
      "************\n",
      "Executing [1] circuits with num_qubits = 6\n"
     ]
    },
    {
     "name": "stderr",
     "output_type": "stream",
     "text": [
      "BQ-PYTHON-SDK - INFO - Submitted: Job ID: sHWHfbagIHCBL0pv, device: cpu, run status: RUNNING, created on: 2023-08-08 05:29:27 UTC, estimated runtime: 100 ms, estimated cost: $0.00, num qubits: 6\n",
      "INFO:bluequbit-python-sdk:Submitted: Job ID: sHWHfbagIHCBL0pv, device: cpu, run status: RUNNING, created on: 2023-08-08 05:29:27 UTC, estimated runtime: 100 ms, estimated cost: $0.00, num qubits: 6\n"
     ]
    },
    {
     "name": "stdout",
     "output_type": "stream",
     "text": [
      "... number of gates, depth = 58, 44\n",
      "************\n",
      "Average Circuit Algorithmic Depth, ξ (xi) for the 6 qubit group = 45, 0.577\n",
      "Average Normalized Transpiled Depth, ξ (xi), 2q gates for the 6 qubit group = 122, 0.39, 60.0\n",
      "Average Creation, Elapsed, Execution Time for the 6 qubit group = 0.003, 0.532, 0.016 secs\n",
      "Average Hellinger, Normalized Fidelity for the 6 qubit group = 1.0, 1.0\n",
      "\n",
      "************\n",
      "Executing [1] circuits with num_qubits = 7\n"
     ]
    },
    {
     "name": "stderr",
     "output_type": "stream",
     "text": [
      "BQ-PYTHON-SDK - INFO - Submitted: Job ID: Zmg8BcDRLmS9aYbH, device: cpu, run status: RUNNING, created on: 2023-08-08 05:29:27 UTC, estimated runtime: 100 ms, estimated cost: $0.00, num qubits: 7\n",
      "INFO:bluequbit-python-sdk:Submitted: Job ID: Zmg8BcDRLmS9aYbH, device: cpu, run status: RUNNING, created on: 2023-08-08 05:29:27 UTC, estimated runtime: 100 ms, estimated cost: $0.00, num qubits: 7\n"
     ]
    },
    {
     "name": "stdout",
     "output_type": "stream",
     "text": [
      "... number of gates, depth = 72, 58\n",
      "************\n",
      "Average Circuit Algorithmic Depth, ξ (xi) for the 7 qubit group = 59, 0.646\n",
      "Average Normalized Transpiled Depth, ξ (xi), 2q gates for the 7 qubit group = 163, 0.41, 84.0\n",
      "Average Creation, Elapsed, Execution Time for the 7 qubit group = 0.013, 0.52, 0.02 secs\n",
      "Average Hellinger, Normalized Fidelity for the 7 qubit group = 1.0, 1.0\n",
      "\n",
      "************\n",
      "Executing [1] circuits with num_qubits = 8\n"
     ]
    },
    {
     "name": "stderr",
     "output_type": "stream",
     "text": [
      "BQ-PYTHON-SDK - INFO - Submitted: Job ID: d3EouzvVF7bWOPpY, device: cpu, run status: RUNNING, created on: 2023-08-08 05:29:28 UTC, estimated runtime: 100 ms, estimated cost: $0.00, num qubits: 8\n",
      "INFO:bluequbit-python-sdk:Submitted: Job ID: d3EouzvVF7bWOPpY, device: cpu, run status: RUNNING, created on: 2023-08-08 05:29:28 UTC, estimated runtime: 100 ms, estimated cost: $0.00, num qubits: 8\n"
     ]
    },
    {
     "name": "stdout",
     "output_type": "stream",
     "text": [
      "... number of gates, depth = 93, 74\n",
      "************\n",
      "Average Circuit Algorithmic Depth, ξ (xi) for the 8 qubit group = 75, 0.659\n",
      "Average Normalized Transpiled Depth, ξ (xi), 2q gates for the 8 qubit group = 210, 0.416, 112.0\n",
      "Average Creation, Elapsed, Execution Time for the 8 qubit group = 0.015, 0.632, 0.025 secs\n",
      "Average Hellinger, Normalized Fidelity for the 8 qubit group = 1.0, 1.0\n",
      "\n",
      "************\n",
      "Executing [1] circuits with num_qubits = 9\n"
     ]
    },
    {
     "name": "stderr",
     "output_type": "stream",
     "text": [
      "BQ-PYTHON-SDK - INFO - Submitted: Job ID: cXl73gkSQDfDczzr, device: cpu, run status: RUNNING, created on: 2023-08-08 05:29:29 UTC, estimated runtime: 100 ms, estimated cost: $0.00, num qubits: 9\n",
      "INFO:bluequbit-python-sdk:Submitted: Job ID: cXl73gkSQDfDczzr, device: cpu, run status: RUNNING, created on: 2023-08-08 05:29:29 UTC, estimated runtime: 100 ms, estimated cost: $0.00, num qubits: 9\n"
     ]
    },
    {
     "name": "stdout",
     "output_type": "stream",
     "text": [
      "... number of gates, depth = 113, 92\n",
      "************\n",
      "Average Circuit Algorithmic Depth, ξ (xi) for the 9 qubit group = 93, 0.692\n",
      "Average Normalized Transpiled Depth, ξ (xi), 2q gates for the 9 qubit group = 263, 0.426, 144.0\n",
      "Average Creation, Elapsed, Execution Time for the 9 qubit group = 0.004, 0.667, 0.032 secs\n",
      "Average Hellinger, Normalized Fidelity for the 9 qubit group = 1.0, 1.0\n",
      "\n",
      "************\n",
      "Executing [1] circuits with num_qubits = 10\n"
     ]
    },
    {
     "name": "stderr",
     "output_type": "stream",
     "text": [
      "BQ-PYTHON-SDK - INFO - Submitted: Job ID: loP7pRNQYFTFpuu1, device: cpu, run status: RUNNING, created on: 2023-08-08 05:29:29 UTC, estimated runtime: 100 ms, estimated cost: $0.00, num qubits: 10\n",
      "INFO:bluequbit-python-sdk:Submitted: Job ID: loP7pRNQYFTFpuu1, device: cpu, run status: RUNNING, created on: 2023-08-08 05:29:29 UTC, estimated runtime: 100 ms, estimated cost: $0.00, num qubits: 10\n"
     ]
    },
    {
     "name": "stdout",
     "output_type": "stream",
     "text": [
      "... number of gates, depth = 138, 112\n",
      "************\n",
      "Average Circuit Algorithmic Depth, ξ (xi) for the 10 qubit group = 113, 0.703\n",
      "Average Normalized Transpiled Depth, ξ (xi), 2q gates for the 10 qubit group = 322, 0.431, 180.0\n",
      "Average Creation, Elapsed, Execution Time for the 10 qubit group = 0.082, 0.77, 0.039 secs\n",
      "Average Hellinger, Normalized Fidelity for the 10 qubit group = 1.0, 1.0\n",
      "\n",
      "************\n",
      "Executing [1] circuits with num_qubits = 11\n"
     ]
    },
    {
     "name": "stderr",
     "output_type": "stream",
     "text": [
      "BQ-PYTHON-SDK - INFO - Submitted: Job ID: CkpiTRIM8GxaZKVh, device: cpu, run status: RUNNING, created on: 2023-08-08 05:29:30 UTC, estimated runtime: 100 ms, estimated cost: $0.00, num qubits: 11\n",
      "INFO:bluequbit-python-sdk:Submitted: Job ID: CkpiTRIM8GxaZKVh, device: cpu, run status: RUNNING, created on: 2023-08-08 05:29:30 UTC, estimated runtime: 100 ms, estimated cost: $0.00, num qubits: 11\n"
     ]
    },
    {
     "name": "stdout",
     "output_type": "stream",
     "text": [
      "... number of gates, depth = 160, 134\n",
      "************\n",
      "Average Circuit Algorithmic Depth, ξ (xi) for the 11 qubit group = 135, 0.738\n",
      "Average Normalized Transpiled Depth, ξ (xi), 2q gates for the 11 qubit group = 387, 0.439, 220.0\n",
      "Average Creation, Elapsed, Execution Time for the 11 qubit group = 0.02, 1.919, 0.045 secs\n",
      "Average Hellinger, Normalized Fidelity for the 11 qubit group = 1.0, 1.0\n",
      "\n",
      "************\n",
      "Executing [1] circuits with num_qubits = 12\n"
     ]
    },
    {
     "name": "stderr",
     "output_type": "stream",
     "text": [
      "BQ-PYTHON-SDK - INFO - Submitted: Job ID: 1CKZmk54sa22xEx3, device: cpu, run status: RUNNING, created on: 2023-08-08 05:29:32 UTC, estimated runtime: 100 ms, estimated cost: $0.00, num qubits: 12\n",
      "INFO:bluequbit-python-sdk:Submitted: Job ID: 1CKZmk54sa22xEx3, device: cpu, run status: RUNNING, created on: 2023-08-08 05:29:32 UTC, estimated runtime: 100 ms, estimated cost: $0.00, num qubits: 12\n"
     ]
    },
    {
     "name": "stdout",
     "output_type": "stream",
     "text": [
      "... number of gates, depth = 184, 158\n",
      "************\n",
      "Average Circuit Algorithmic Depth, ξ (xi) for the 12 qubit group = 159, 0.767\n",
      "Average Normalized Transpiled Depth, ξ (xi), 2q gates for the 12 qubit group = 458, 0.446, 264.0\n",
      "Average Creation, Elapsed, Execution Time for the 12 qubit group = 0.02, 2.015, 0.052 secs\n",
      "Average Hellinger, Normalized Fidelity for the 12 qubit group = 1.0, 1.0\n",
      "\n",
      "************\n",
      "Executing [1] circuits with num_qubits = 13\n"
     ]
    },
    {
     "name": "stderr",
     "output_type": "stream",
     "text": [
      "BQ-PYTHON-SDK - INFO - Submitted: Job ID: Qy9VpiDtI1e9Vw1q, device: cpu, run status: RUNNING, created on: 2023-08-08 05:29:34 UTC, estimated runtime: 100 ms, estimated cost: $0.00, num qubits: 13\n",
      "INFO:bluequbit-python-sdk:Submitted: Job ID: Qy9VpiDtI1e9Vw1q, device: cpu, run status: RUNNING, created on: 2023-08-08 05:29:34 UTC, estimated runtime: 100 ms, estimated cost: $0.00, num qubits: 13\n"
     ]
    },
    {
     "name": "stdout",
     "output_type": "stream",
     "text": [
      "... number of gates, depth = 212, 184\n",
      "************\n",
      "Average Circuit Algorithmic Depth, ξ (xi) for the 13 qubit group = 185, 0.784\n",
      "Average Normalized Transpiled Depth, ξ (xi), 2q gates for the 13 qubit group = 535, 0.45, 312.0\n",
      "Average Creation, Elapsed, Execution Time for the 13 qubit group = 0.009, 2.216, 0.061 secs\n",
      "Average Hellinger, Normalized Fidelity for the 13 qubit group = 1.0, 1.0\n",
      "\n",
      "************\n",
      "Executing [1] circuits with num_qubits = 14\n"
     ]
    },
    {
     "name": "stderr",
     "output_type": "stream",
     "text": [
      "BQ-PYTHON-SDK - INFO - Submitted: Job ID: ZgOzvhTKLZZ43O5V, device: cpu, run status: RUNNING, created on: 2023-08-08 05:29:37 UTC, estimated runtime: 100 ms, estimated cost: $0.00, num qubits: 14\n",
      "INFO:bluequbit-python-sdk:Submitted: Job ID: ZgOzvhTKLZZ43O5V, device: cpu, run status: RUNNING, created on: 2023-08-08 05:29:37 UTC, estimated runtime: 100 ms, estimated cost: $0.00, num qubits: 14\n"
     ]
    },
    {
     "name": "stdout",
     "output_type": "stream",
     "text": [
      "... number of gates, depth = 244, 212\n",
      "************\n",
      "Average Circuit Algorithmic Depth, ξ (xi) for the 14 qubit group = 213, 0.791\n",
      "Average Normalized Transpiled Depth, ξ (xi), 2q gates for the 14 qubit group = 618, 0.453, 364.0\n",
      "Average Creation, Elapsed, Execution Time for the 14 qubit group = 0.009, 2.256, 0.073 secs\n",
      "Average Hellinger, Normalized Fidelity for the 14 qubit group = 1.0, 1.0\n",
      "\n",
      "************\n",
      "Executing [1] circuits with num_qubits = 15\n"
     ]
    },
    {
     "name": "stderr",
     "output_type": "stream",
     "text": [
      "BQ-PYTHON-SDK - INFO - Submitted: Job ID: DKDKnEZAYelIgr2c, device: cpu, run status: RUNNING, created on: 2023-08-08 05:29:39 UTC, estimated runtime: 100 ms, estimated cost: $0.00, num qubits: 15\n",
      "INFO:bluequbit-python-sdk:Submitted: Job ID: DKDKnEZAYelIgr2c, device: cpu, run status: RUNNING, created on: 2023-08-08 05:29:39 UTC, estimated runtime: 100 ms, estimated cost: $0.00, num qubits: 15\n"
     ]
    },
    {
     "name": "stdout",
     "output_type": "stream",
     "text": [
      "... number of gates, depth = 280, 242\n",
      "************\n",
      "Average Circuit Algorithmic Depth, ξ (xi) for the 15 qubit group = 243, 0.792\n",
      "Average Normalized Transpiled Depth, ξ (xi), 2q gates for the 15 qubit group = 707, 0.454, 420.0\n",
      "Average Creation, Elapsed, Execution Time for the 15 qubit group = 0.011, 2.341, 0.085 secs\n",
      "Average Hellinger, Normalized Fidelity for the 15 qubit group = 1.0, 1.0\n",
      "\n",
      "************\n",
      "Executing [1] circuits with num_qubits = 16\n"
     ]
    },
    {
     "name": "stderr",
     "output_type": "stream",
     "text": [
      "BQ-PYTHON-SDK - INFO - Submitted: Job ID: kN9yadUxDvPlf56N, device: cpu, run status: RUNNING, created on: 2023-08-08 05:29:42 UTC, estimated runtime: 100 ms, estimated cost: $0.00, num qubits: 16\n",
      "INFO:bluequbit-python-sdk:Submitted: Job ID: kN9yadUxDvPlf56N, device: cpu, run status: RUNNING, created on: 2023-08-08 05:29:42 UTC, estimated runtime: 100 ms, estimated cost: $0.00, num qubits: 16\n"
     ]
    },
    {
     "name": "stdout",
     "output_type": "stream",
     "text": [
      "... number of gates, depth = 311, 274\n",
      "************\n",
      "Average Circuit Algorithmic Depth, ξ (xi) for the 16 qubit group = 275, 0.814\n",
      "Average Normalized Transpiled Depth, ξ (xi), 2q gates for the 16 qubit group = 802, 0.458, 480.0\n",
      "Average Creation, Elapsed, Execution Time for the 16 qubit group = 0.012, 2.419, 0.096 secs\n",
      "Average Hellinger, Normalized Fidelity for the 16 qubit group = 1.0, 1.0\n",
      "\n",
      "************\n",
      "Executing [1] circuits with num_qubits = 17\n"
     ]
    },
    {
     "name": "stderr",
     "output_type": "stream",
     "text": [
      "BQ-PYTHON-SDK - INFO - Submitted: Job ID: KfwGbDKlNDTccLGN, device: cpu, run status: RUNNING, created on: 2023-08-08 05:29:44 UTC, estimated runtime: 100 ms, estimated cost: $0.00, num qubits: 17\n",
      "INFO:bluequbit-python-sdk:Submitted: Job ID: KfwGbDKlNDTccLGN, device: cpu, run status: RUNNING, created on: 2023-08-08 05:29:44 UTC, estimated runtime: 100 ms, estimated cost: $0.00, num qubits: 17\n"
     ]
    },
    {
     "name": "stdout",
     "output_type": "stream",
     "text": [
      "... number of gates, depth = 348, 308\n",
      "************\n",
      "Average Circuit Algorithmic Depth, ξ (xi) for the 17 qubit group = 309, 0.822\n",
      "Average Normalized Transpiled Depth, ξ (xi), 2q gates for the 17 qubit group = 903, 0.461, 544.0\n",
      "Average Creation, Elapsed, Execution Time for the 17 qubit group = 0.066, 2.582, 0.113 secs\n",
      "Average Hellinger, Normalized Fidelity for the 17 qubit group = 1.0, 1.0\n",
      "\n",
      "************\n",
      "Executing [1] circuits with num_qubits = 18\n"
     ]
    },
    {
     "name": "stderr",
     "output_type": "stream",
     "text": [
      "BQ-PYTHON-SDK - INFO - Submitted: Job ID: dO0naofoDiAG0zKL, device: cpu, run status: RUNNING, created on: 2023-08-08 05:29:48 UTC, estimated runtime: 163 ms, estimated cost: $0.00, num qubits: 18\n",
      "INFO:bluequbit-python-sdk:Submitted: Job ID: dO0naofoDiAG0zKL, device: cpu, run status: RUNNING, created on: 2023-08-08 05:29:48 UTC, estimated runtime: 163 ms, estimated cost: $0.00, num qubits: 18\n"
     ]
    },
    {
     "name": "stdout",
     "output_type": "stream",
     "text": [
      "... number of gates, depth = 385, 344\n",
      "************\n",
      "Average Circuit Algorithmic Depth, ξ (xi) for the 18 qubit group = 345, 0.834\n",
      "Average Normalized Transpiled Depth, ξ (xi), 2q gates for the 18 qubit group = 1010, 0.463, 612.0\n",
      "Average Creation, Elapsed, Execution Time for the 18 qubit group = 0.015, 3.478, 0.141 secs\n",
      "Average Hellinger, Normalized Fidelity for the 18 qubit group = 1.0, 1.0\n",
      "\n",
      "... execution complete at Aug 08, 2023 05:29:50 UTC in 22.975 secs\n",
      "\n",
      "Sample Circuit:\n",
      "        ┌───┐ ░ ┌──────┐ ░  ┌───────┐   ░ ┌──────────┐ ░ ┌─┐               \n",
      "q328_0: ┤ X ├─░─┤0     ├─░──┤ Rz(π) ├───░─┤0         ├─░─┤M├───────────────\n",
      "        └───┘ ░ │      │ ░ ┌┴───────┴┐  ░ │          │ ░ └╥┘┌─┐            \n",
      "q328_1: ──────░─┤1     ├─░─┤ Rz(π/2) ├──░─┤1         ├─░──╫─┤M├────────────\n",
      "        ┌───┐ ░ │      │ ░ ├─────────┤  ░ │          │ ░  ║ └╥┘┌─┐         \n",
      "q328_2: ┤ X ├─░─┤2     ├─░─┤ Rz(π/4) ├──░─┤2         ├─░──╫──╫─┤M├─────────\n",
      "        ├───┤ ░ │  qft │ ░ ├─────────┤  ░ │  inv_qft │ ░  ║  ║ └╥┘┌─┐      \n",
      "q328_3: ┤ X ├─░─┤3     ├─░─┤ Rz(π/8) ├──░─┤3         ├─░──╫──╫──╫─┤M├──────\n",
      "        └───┘ ░ │      │ ░ ├─────────┴┐ ░ │          │ ░  ║  ║  ║ └╥┘┌─┐   \n",
      "q328_4: ──────░─┤4     ├─░─┤ Rz(π/16) ├─░─┤4         ├─░──╫──╫──╫──╫─┤M├───\n",
      "        ┌───┐ ░ │      │ ░ ├──────────┤ ░ │          │ ░  ║  ║  ║  ║ └╥┘┌─┐\n",
      "q328_5: ┤ X ├─░─┤5     ├─░─┤ Rz(π/32) ├─░─┤5         ├─░──╫──╫──╫──╫──╫─┤M├\n",
      "        └───┘ ░ └──────┘ ░ └──────────┘ ░ └──────────┘ ░  ║  ║  ║  ║  ║ └╥┘\n",
      " c45: 6/══════════════════════════════════════════════════╩══╩══╩══╩══╩══╩═\n",
      "                                                          0  1  2  3  4  5 \n",
      "\n",
      "QFT Circuit =\n",
      "              ░                  ░                             ░            »\n",
      "q329_0: ──────░──────────────────░─────────────────────────────░────────────»\n",
      "              ░                  ░                             ░            »\n",
      "q329_1: ──────░──────────────────░─────────────────────────────░────────────»\n",
      "              ░                  ░                             ░            »\n",
      "q329_2: ──────░──────────────────░─────────────────────────────░──────■─────»\n",
      "              ░                  ░                       ┌───┐ ░      │     »\n",
      "q329_3: ──────░──────────────────░──────■──────────■─────┤ H ├─░──────┼─────»\n",
      "              ░            ┌───┐ ░      │     ┌────┴────┐└───┘ ░      │     »\n",
      "q329_4: ──────░──────■─────┤ H ├─░──────┼─────┤ Rz(π/2) ├──────░──────┼─────»\n",
      "        ┌───┐ ░ ┌────┴────┐└───┘ ░ ┌────┴────┐└─────────┘      ░ ┌────┴────┐»\n",
      "q329_5: ┤ H ├─░─┤ Rz(π/2) ├──────░─┤ Rz(π/4) ├─────────────────░─┤ Rz(π/8) ├»\n",
      "        └───┘ ░ └─────────┘      ░ └─────────┘                 ░ └─────────┘»\n",
      "«                                    ░                                   »\n",
      "«q329_0: ────────────────────────────░───────────────────────────────────»\n",
      "«                                    ░                                   »\n",
      "«q329_1: ────────────────────────────░──────■───────────■──────────■─────»\n",
      "«                              ┌───┐ ░      │           │          │     »\n",
      "«q329_2: ─────■──────────■─────┤ H ├─░──────┼───────────┼──────────┼─────»\n",
      "«             │     ┌────┴────┐└───┘ ░      │           │     ┌────┴────┐»\n",
      "«q329_3: ─────┼─────┤ Rz(π/2) ├──────░──────┼───────────┼─────┤ Rz(π/4) ├»\n",
      "«        ┌────┴────┐└─────────┘      ░      │      ┌────┴────┐└─────────┘»\n",
      "«q329_4: ┤ Rz(π/4) ├─────────────────░──────┼──────┤ Rz(π/8) ├───────────»\n",
      "«        └─────────┘                 ░ ┌────┴─────┐└─────────┘           »\n",
      "«q329_5: ────────────────────────────░─┤ Rz(π/16) ├──────────────────────»\n",
      "«                                    ░ └──────────┘                      »\n",
      "«                         ░                                               »\n",
      "«q329_0: ─────────────────░──────■───────────■───────────■──────────■─────»\n",
      "«                   ┌───┐ ░      │           │           │          │     »\n",
      "«q329_1: ─────■─────┤ H ├─░──────┼───────────┼───────────┼──────────┼─────»\n",
      "«        ┌────┴────┐└───┘ ░      │           │           │     ┌────┴────┐»\n",
      "«q329_2: ┤ Rz(π/2) ├──────░──────┼───────────┼───────────┼─────┤ Rz(π/4) ├»\n",
      "«        └─────────┘      ░      │           │      ┌────┴────┐└─────────┘»\n",
      "«q329_3: ─────────────────░──────┼───────────┼──────┤ Rz(π/8) ├───────────»\n",
      "«                         ░      │      ┌────┴─────┐└─────────┘           »\n",
      "«q329_4: ─────────────────░──────┼──────┤ Rz(π/16) ├──────────────────────»\n",
      "«                         ░ ┌────┴─────┐└──────────┘                      »\n",
      "«q329_5: ─────────────────░─┤ Rz(π/32) ├──────────────────────────────────»\n",
      "«                         ░ └──────────┘                                  »\n",
      "«                   ┌───┐ ░ \n",
      "«q329_0: ─────■─────┤ H ├─░─\n",
      "«        ┌────┴────┐└───┘ ░ \n",
      "«q329_1: ┤ Rz(π/2) ├──────░─\n",
      "«        └─────────┘      ░ \n",
      "«q329_2: ─────────────────░─\n",
      "«                         ░ \n",
      "«q329_3: ─────────────────░─\n",
      "«                         ░ \n",
      "«q329_4: ─────────────────░─\n",
      "«                         ░ \n",
      "«q329_5: ─────────────────░─\n",
      "«                         ░ \n",
      "\n",
      "Inverse QFT Circuit =\n",
      "        ┌───┐                                                               ░ »\n",
      "q330_0: ┤ H ├─────■───────────■───────────■────────────■────────────■───────░─»\n",
      "        └───┘┌────┴─────┐     │           │            │            │       ░ »\n",
      "q330_1: ─────┤ Rz(-π/2) ├─────┼───────────┼────────────┼────────────┼───────░─»\n",
      "             └──────────┘┌────┴─────┐     │            │            │       ░ »\n",
      "q330_2: ─────────────────┤ Rz(-π/4) ├─────┼────────────┼────────────┼───────░─»\n",
      "                         └──────────┘┌────┴─────┐      │            │       ░ »\n",
      "q330_3: ─────────────────────────────┤ Rz(-π/8) ├──────┼────────────┼───────░─»\n",
      "                                     └──────────┘┌─────┴─────┐      │       ░ »\n",
      "q330_4: ─────────────────────────────────────────┤ Rz(-π/16) ├──────┼───────░─»\n",
      "                                                 └───────────┘┌─────┴─────┐ ░ »\n",
      "q330_5: ──────────────────────────────────────────────────────┤ Rz(-π/32) ├─░─»\n",
      "                                                              └───────────┘ ░ »\n",
      "«                                                               ░      »\n",
      "«q330_0: ───────────────────────────────────────────────────────░──────»\n",
      "«        ┌───┐                                                  ░      »\n",
      "«q330_1: ┤ H ├─────■───────────■───────────■────────────■───────░──────»\n",
      "«        └───┘┌────┴─────┐     │           │            │       ░ ┌───┐»\n",
      "«q330_2: ─────┤ Rz(-π/2) ├─────┼───────────┼────────────┼───────░─┤ H ├»\n",
      "«             └──────────┘┌────┴─────┐     │            │       ░ └───┘»\n",
      "«q330_3: ─────────────────┤ Rz(-π/4) ├─────┼────────────┼───────░──────»\n",
      "«                         └──────────┘┌────┴─────┐      │       ░      »\n",
      "«q330_4: ─────────────────────────────┤ Rz(-π/8) ├──────┼───────░──────»\n",
      "«                                     └──────────┘┌─────┴─────┐ ░      »\n",
      "«q330_5: ─────────────────────────────────────────┤ Rz(-π/16) ├─░──────»\n",
      "«                                                 └───────────┘ ░      »\n",
      "«                                             ░                              »\n",
      "«q330_0: ─────────────────────────────────────░──────────────────────────────»\n",
      "«                                             ░                              »\n",
      "«q330_1: ─────────────────────────────────────░──────────────────────────────»\n",
      "«                                             ░                              »\n",
      "«q330_2: ─────■───────────■───────────■───────░──────────────────────────────»\n",
      "«        ┌────┴─────┐     │           │       ░ ┌───┐                        »\n",
      "«q330_3: ┤ Rz(-π/2) ├─────┼───────────┼───────░─┤ H ├─────■───────────■──────»\n",
      "«        └──────────┘┌────┴─────┐     │       ░ └───┘┌────┴─────┐     │      »\n",
      "«q330_4: ────────────┤ Rz(-π/4) ├─────┼───────░──────┤ Rz(-π/2) ├─────┼──────»\n",
      "«                    └──────────┘┌────┴─────┐ ░      └──────────┘┌────┴─────┐»\n",
      "«q330_5: ────────────────────────┤ Rz(-π/8) ├─░──────────────────┤ Rz(-π/4) ├»\n",
      "«                                └──────────┘ ░                  └──────────┘»\n",
      "«         ░                   ░       ░ \n",
      "«q330_0: ─░───────────────────░───────░─\n",
      "«         ░                   ░       ░ \n",
      "«q330_1: ─░───────────────────░───────░─\n",
      "«         ░                   ░       ░ \n",
      "«q330_2: ─░───────────────────░───────░─\n",
      "«         ░                   ░       ░ \n",
      "«q330_3: ─░───────────────────░───────░─\n",
      "«         ░ ┌───┐             ░       ░ \n",
      "«q330_4: ─░─┤ H ├─────■───────░───────░─\n",
      "«         ░ └───┘┌────┴─────┐ ░ ┌───┐ ░ \n",
      "«q330_5: ─░──────┤ Rz(-π/2) ├─░─┤ H ├─░─\n",
      "«         ░      └──────────┘ ░ └───┘ ░ \n"
     ]
    },
    {
     "data": {
      "image/png": "[encoded data removed]",
      "text/plain": [
       "<Figure size 432x738 with 4 Axes>"
      ]
     },
     "metadata": {
      "needs_background": "light"
     },
     "output_type": "display_data"
    },
    {
     "data": {
      "image/png": "[encoded data removed]",
      "text/plain": [
       "<Figure size 489.6x570.109 with 2 Axes>"
      ]
     },
     "metadata": {
      "needs_background": "light"
     },
     "output_type": "display_data"
    }
   ],
   "source": [
    "import sys\n",
    "sys.path.insert(1, \"quantum-fourier-transform/qiskit\")\n",
    "import qft_benchmark\n",
    "qft_benchmark.run(min_qubits=min_qubits, max_qubits=max_qubits, max_circuits=max_circuits, num_shots=num_shots,\n",
    "                method=1,\n",
    "                backend_id=backend_id, provider_backend=provider_backend,\n",
    "                hub=hub, group=group, project=project, exec_options=exec_options)"
   ]
  },
  {
   "cell_type": "markdown",
   "metadata": {},
   "source": [
    "### Quantum Fourier Transform - Method 2"
   ]
  },
  {
   "cell_type": "code",
   "execution_count": null,
   "metadata": {},
   "outputs": [],
   "source": [
    "import sys\n",
    "sys.path.insert(1, \"quantum-fourier-transform/qiskit\")\n",
    "import qft_benchmark\n",
    "qft_benchmark.run(min_qubits=min_qubits, max_qubits=max_qubits, max_circuits=max_circuits, num_shots=num_shots,\n",
    "                method=2,\n",
    "                backend_id=backend_id, provider_backend=provider_backend,\n",
    "                hub=hub, group=group, project=project, exec_options=exec_options)"
   ]
  },
  {
   "cell_type": "markdown",
   "metadata": {},
   "source": [
    "### Grover"
   ]
  },
  {
   "cell_type": "code",
   "execution_count": null,
   "metadata": {},
   "outputs": [],
   "source": [
    "import sys\n",
    "sys.path.insert(1, \"grovers/qiskit\")\n",
    "import grovers_benchmark\n",
    "grovers_benchmark.run(min_qubits=min_qubits, max_qubits=max_qubits, max_circuits=max_circuits, num_shots=num_shots,\n",
    "                backend_id=backend_id, provider_backend=provider_backend,\n",
    "                hub=hub, group=group, project=project, exec_options=exec_options)"
   ]
  },
  {
   "cell_type": "markdown",
   "metadata": {},
   "source": [
    "### Phase Estimation"
   ]
  },
  {
   "cell_type": "code",
   "execution_count": null,
   "metadata": {},
   "outputs": [],
   "source": [
    "import sys\n",
    "sys.path.insert(1, \"phase-estimation/qiskit\")\n",
    "import pe_benchmark\n",
    "pe_benchmark.run(min_qubits=min_qubits, max_qubits=max_qubits, max_circuits=max_circuits, num_shots=num_shots,\n",
    "                backend_id=backend_id, provider_backend=provider_backend,\n",
    "                hub=hub, group=group, project=project, exec_options=exec_options)"
   ]
  },
  {
   "cell_type": "markdown",
   "metadata": {},
   "source": [
    "### HHL Linear Solver"
   ]
  },
  {
   "cell_type": "code",
   "execution_count": null,
   "metadata": {
    "scrolled": false
   },
   "outputs": [],
   "source": [
    "import sys\n",
    "sys.path.insert(1, \"hhl/qiskit\")\n",
    "import hhl_benchmark\n",
    "\n",
    "hhl_benchmark.verbose=False\n",
    "\n",
    "hhl_benchmark.run(min_qubits=min_qubits, max_qubits=max_qubits, max_circuits=max_circuits, num_shots=num_shots,\n",
    "                method=1, use_best_widths=True,\n",
    "                backend_id=backend_id, provider_backend=provider_backend,\n",
    "                hub=hub, group=group, project=project, exec_options=exec_options)"
   ]
  },
  {
   "cell_type": "markdown",
   "metadata": {},
   "source": [
    "### Amplitude Estimation"
   ]
  },
  {
   "cell_type": "code",
   "execution_count": null,
   "metadata": {},
   "outputs": [],
   "source": [
    "import sys\n",
    "sys.path.insert(1, \"amplitude-estimation/qiskit\")\n",
    "import ae_benchmark\n",
    "ae_benchmark.run(min_qubits=min_qubits, max_qubits=max_qubits, max_circuits=max_circuits, num_shots=num_shots,\n",
    "                backend_id=backend_id, provider_backend=provider_backend,\n",
    "                hub=hub, group=group, project=project, exec_options=exec_options)"
   ]
  },
  {
   "cell_type": "markdown",
   "metadata": {},
   "source": [
    "### Monte Carlo"
   ]
  },
  {
   "cell_type": "code",
   "execution_count": null,
   "metadata": {},
   "outputs": [],
   "source": [
    "import sys\n",
    "sys.path.insert(1, \"monte-carlo/qiskit\")\n",
    "import mc_benchmark\n",
    "mc_benchmark.run(min_qubits=min_qubits, max_qubits=max_qubits, max_circuits=max_circuits, num_shots=num_shots,\n",
    "                backend_id=backend_id, provider_backend=provider_backend,\n",
    "                hub=hub, group=group, project=project, exec_options=exec_options)"
   ]
  },
  {
   "cell_type": "markdown",
   "metadata": {},
   "source": [
    "### Hamiltonian Simulation"
   ]
  },
  {
   "cell_type": "code",
   "execution_count": null,
   "metadata": {},
   "outputs": [],
   "source": [
    "import sys\n",
    "sys.path.insert(1, \"hamiltonian-simulation/qiskit\")\n",
    "import hamiltonian_simulation_benchmark\n",
    "hamiltonian_simulation_benchmark.run(min_qubits=min_qubits, max_qubits=max_qubits,\n",
    "                max_circuits=max_circuits, num_shots=num_shots,\n",
    "                backend_id=backend_id, provider_backend=provider_backend,\n",
    "                hub=hub, group=group, project=project, exec_options=exec_options)"
   ]
  },
  {
   "cell_type": "markdown",
   "metadata": {},
   "source": [
    "### VQE - Method 1"
   ]
  },
  {
   "cell_type": "code",
   "execution_count": null,
   "metadata": {},
   "outputs": [],
   "source": [
    "import sys\n",
    "sys.path.insert(1, \"vqe/qiskit\")\n",
    "import vqe_benchmark\n",
    "vqe_num_shots=4098\n",
    "vqe_benchmark.run(min_qubits=min_qubits, max_qubits=max_qubits, max_circuits=max_circuits, num_shots=vqe_num_shots,\n",
    "                method=1,\n",
    "                backend_id=backend_id, provider_backend=provider_backend,\n",
    "                hub=hub, group=group, project=project, exec_options=exec_options)"
   ]
  },
  {
   "cell_type": "markdown",
   "metadata": {},
   "source": [
    "### Shor - Method 1"
   ]
  },
  {
   "cell_type": "code",
   "execution_count": null,
   "metadata": {},
   "outputs": [],
   "source": [
    "import sys\n",
    "sys.path.insert(1, \"shors/qiskit\")\n",
    "import shors_benchmark\n",
    "shors_benchmark.run(min_qubits=min_qubits, max_qubits=max_qubits, max_circuits=1, num_shots=num_shots,\n",
    "                method=1,\n",
    "                backend_id=backend_id, provider_backend=provider_backend,\n",
    "                hub=hub, group=group, project=project, exec_options=exec_options)"
   ]
  },
  {
   "cell_type": "markdown",
   "metadata": {},
   "source": [
    "### Shor - Method 2"
   ]
  },
  {
   "cell_type": "code",
   "execution_count": null,
   "metadata": {},
   "outputs": [],
   "source": [
    "import sys\n",
    "sys.path.insert(1, \"shors/qiskit\")\n",
    "import shors_benchmark\n",
    "shors_benchmark.run(min_qubits=min_qubits, max_qubits=max_qubits, max_circuits=1, num_shots=num_shots,\n",
    "                method=2,\n",
    "                backend_id=backend_id, provider_backend=provider_backend,\n",
    "                hub=hub, group=group, project=project, exec_options=exec_options)"
   ]
  },
  {
   "cell_type": "markdown",
   "metadata": {},
   "source": [
    "### Combined Benchmark Results"
   ]
  },
  {
   "cell_type": "code",
   "execution_count": null,
   "metadata": {},
   "outputs": [],
   "source": [
    "import sys\n",
    "sys.path.insert(1, \"_common\")\n",
    "import metrics\n",
    "\n",
    "# metrics.depth_base = 2\n",
    "# metrics.QV = 64\n",
    "# apps = [ \"Hidden Shift\", \"Grover's Search\", \"Quantum Fourier Transform (1)\", \"Hamiltonian Simulation\" ]\n",
    "# backend_id='qasm_simulator'\n",
    "\n",
    "metrics.plot_all_app_metrics(backend_id, do_all_plots=False, include_apps=None)"
   ]
  }
 ],
 "metadata": {
  "kernelspec": {
   "display_name": "qiskit-test-ml",
   "language": "python",
   "name": "qiskit-test-ml"
  },
  "language_info": {
   "codemirror_mode": {
    "name": "ipython",
    "version": 3
   },
   "file_extension": ".py",
   "mimetype": "text/x-python",
   "name": "python",
   "nbconvert_exporter": "python",
   "pygments_lexer": "ipython3",
   "version": "3.9.7"
  }
 },
 "nbformat": 4,
 "nbformat_minor": 4
}
