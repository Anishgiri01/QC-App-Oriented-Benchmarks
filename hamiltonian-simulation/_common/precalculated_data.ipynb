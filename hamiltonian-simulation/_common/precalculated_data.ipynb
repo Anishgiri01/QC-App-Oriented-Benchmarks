{
 "cells": [
  {
   "cell_type": "code",
   "execution_count": null,
   "metadata": {
    "ExecuteTime": {
     "end_time": "2024-05-06T16:26:36.751184Z",
     "start_time": "2024-05-06T16:26:35.905972Z"
    }
   },
   "outputs": [],
   "source": [
    "import sys\n",
    "\n",
    "sys.path[1:1] = [\"_common\", \"_common/qiskit\"]\n",
    "sys.path[1:1] = [\"../../_common\", \"../../_common/qiskit\"]\n",
    "sys.path[1:1] = [\"../qiskit\"]\n",
    "import execute as ex\n",
    "import metrics as metrics\n",
    "from hamiltonian_simulation_benchmark import HamiltonianSimulation\n",
    "from hamiltonian_simulation_exact import HamiltonianSimulationExact\n",
    "\n",
    "from qiskit import QuantumCircuit, QuantumRegister, ClassicalRegister\n",
    "from qiskit.quantum_info import SparsePauliOp\n",
    "from qiskit_algorithms import TimeEvolutionProblem, SciPyRealEvolver\n",
    "\n",
    "import time\n",
    "import math\n",
    "import numpy as np\n",
    "\n",
    "import execute as ex\n",
    "import metrics as metrics\n",
    "\n",
    "from collections import defaultdict\n",
    "\n",
    "np.random.seed(0)"
   ]
  },
  {
   "cell_type": "code",
   "execution_count": null,
   "metadata": {
    "ExecuteTime": {
     "end_time": "2024-05-06T16:39:58.644353Z",
     "start_time": "2024-05-06T16:39:39.092464Z"
    },
    "tags": []
   },
   "outputs": [],
   "source": [
    "import json\n",
    "from qiskit_aer import Aer\n",
    "from qiskit import transpile\n",
    "\n",
    "# Parameters for the Heisenberg Hamiltonian simulation\n",
    "w = 1 \n",
    "k = 5\n",
    "t = .2 # Heisenberg state evolves \"just\" enough \n",
    "\n",
    "min_qubits = 2\n",
    "max_qubits = 12\n",
    "\n",
    "# Backend for simulation\n",
    "backend = Aer.get_backend(\"qasm_simulator\")\n",
    "\n",
    "# Dictionary to store precalculated data\n",
    "precalculated_data = {}\n",
    "\n",
    "# store parameters in precalculated data\n",
    "precalculated_data[\"w\"] = w\n",
    "precalculated_data[\"k\"] = k\n",
    "precalculated_data[\"t\"] = t\n",
    "\n",
    "# add parameter random values to precalculated data to ensure consistency\n",
    "np.random.seed(26)\n",
    "precalculated_data['hx'] = list(2 * np.random.random(20) - 1) # random numbers between [-1, 1]\n",
    "np.random.seed(75)\n",
    "precalculated_data['hz'] = list(2 * np.random.random(20) - 1) # random numbers between [-1, 1]\n",
    "\n",
    "# Number of shots for the (close to) perfect circuit simulation\n",
    "num_shots = 100000\n",
    "\n",
    "# Generate precalculated data for each number of qubits\n",
    "for n_spins in range(min_qubits, max_qubits+1):\n",
    "\n",
    "        print(f\"Now running n_spins {n_spins}\")\n",
    "\n",
    "        hx = precalculated_data['hx'][:n_spins]\n",
    "        hz = precalculated_data['hz'][:n_spins]\n",
    "\n",
    "        # Initialize the Hamiltonian simulation circuits\n",
    "        qc = HamiltonianSimulation(n_spins, k, t, hamiltonian=\"heisenberg\", w=w, hx = hx, hz = hz)\n",
    "        qc2 = HamiltonianSimulation(n_spins, k, t, hamiltonian=\"tfim\", w=w, hx = hx, hz = hz)\n",
    "\n",
    "        # Transpile and run the circuits\n",
    "        transpiled_qc = transpile(qc, backend, optimization_level=0)\n",
    "        job = backend.run(transpiled_qc, shots=num_shots)\n",
    "        result = job.result()\n",
    "        counts = result.get_counts(qc)\n",
    "\n",
    "        transpiled_qc2 = transpile(qc2, backend, optimization_level=0)\n",
    "        job2 = backend.run(transpiled_qc2, shots=num_shots)\n",
    "        result2 = job2.result()\n",
    "        counts2 = result2.get_counts()\n",
    "\n",
    "        # Normalize probabilities for Heisenberg model circuit \n",
    "        dist = {}\n",
    "        for key in counts.keys():\n",
    "            prob = counts[key] / num_shots\n",
    "            dist[key] = prob\n",
    "\n",
    "        # Normalize probabilities for TFIM model circuit\n",
    "        dist2 = {}\n",
    "        for key in counts2.keys():\n",
    "            prob = counts2[key] / num_shots\n",
    "            dist2[key] = prob\n",
    "\n",
    "        # add dist values to precalculated data for use in fidelity calculation\n",
    "        precalculated_data[f\"Heisenberg - Qubits{n_spins}\"] = dist  \n",
    "        precalculated_data[f\"Exact Heisenberg - Qubits{n_spins}\"] = HamiltonianSimulationExact(n_spins, t=t, init_state = \"checkerboard\", hamiltonian=\"heisenberg\", w=w, hx = hx, hz = hz)\n",
    "        precalculated_data[f\"TFIM - Qubits{n_spins}\"] = dist2\n",
    "        precalculated_data[f\"Exact TFIM - Qubits{n_spins}\"] = HamiltonianSimulationExact(n_spins, t=t, init_state = \"ghz\", hamiltonian=\"tfim\", w=w, hx = hx, hz = hz) \n",
    "\n",
    "# Save precalculated data to a JSON file\n",
    "# https://stackoverflow.com/questions/36021332/how-to-prettyprint-human-readably-print-a-python-dict-in-json-format-double-q\n",
    "with open('precalculated_data.json', 'w') as f:\n",
    "    f.write(json.dumps(\n",
    "        precalculated_data,\n",
    "        sort_keys=True,\n",
    "        indent=4,\n",
    "        separators=(',', ': ')\n",
    "        ))"
   ]
  },
  {
   "cell_type": "code",
   "execution_count": null,
   "metadata": {},
   "outputs": [],
   "source": []
  }
 ],
 "metadata": {
  "interpreter": {
   "hash": "719b70cead591c08c7b0f1bcd4bde00bd9cce0726633d80969f72eadd10f377f"
  },
  "kernelspec": {
   "display_name": "Python 3 (ipykernel)",
   "language": "python",
   "name": "python3"
  },
  "language_info": {
   "codemirror_mode": {
    "name": "ipython",
    "version": 3
   },
   "file_extension": ".py",
   "mimetype": "text/x-python",
   "name": "python",
   "nbconvert_exporter": "python",
   "pygments_lexer": "ipython3",
   "version": "3.10.12"
  }
 },
 "nbformat": 4,
 "nbformat_minor": 4
}
