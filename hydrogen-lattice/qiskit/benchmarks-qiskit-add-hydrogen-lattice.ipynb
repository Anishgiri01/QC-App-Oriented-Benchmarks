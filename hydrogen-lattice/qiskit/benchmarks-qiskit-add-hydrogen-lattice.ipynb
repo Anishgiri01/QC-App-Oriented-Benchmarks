{
 "cells": [
  {
   "cell_type": "markdown",
   "metadata": {},
   "source": [
    "### QED-C Prototype Benchmarks - Qiskit Version\n",
    "The notebook contains a suite of prototype application benchmarks for the Qiskit API.\n",
    "Configure and run the cell below with the desired execution settings.\n",
    "Then execute the remaining cells, each containing one benchmark program."
   ]
  },
  {
   "cell_type": "code",
   "execution_count": null,
   "metadata": {
    "scrolled": true
   },
   "outputs": [],
   "source": [
    "min_qubits=4\n",
    "max_qubits=6\n",
    "max_circuits=1\n",
    "num_shots=1000\n",
    "\n",
    "backend_id=\"qasm_simulator\"\n",
    "hub=\"ibm-q\"; group=\"open\"; project=\"main\"\n",
    "provider_backend = None\n",
    "exec_options = None\n",
    "\n",
    "# # *** If using IBMQ hardware, run this once to authenticate\n",
    "# from qiskit import IBMQ\n",
    "# IBMQ.save_account('YOUR_API_TOKEN_HERE')\n",
    "\n",
    "# # *** If you are part of an IBMQ group, set hub, group, and project name here\n",
    "# hub=\"YOUR_HUB_NAME\"\n",
    "# group=\"YOUR_GROUP_NAME\"\n",
    "# project=\"YOUR_PROJECT_NAME\"\n",
    "\n",
    "# # *** This example shows how to specify the backend using a known \"backend_id\"\n",
    "# # Use 'sabre' layout for IBM backends\n",
    "# exec_options = { \"optimization_level\":3, \"layout_method\":'sabre', \"routing_method\":'sabre' }\n",
    "# backend_id=\"ibmq_belem\"\n",
    "\n",
    "# # *** Here's an example of using a typical custom provider backend (e.g. AQT simulator)\n",
    "# import os\n",
    "# from qiskit_aqt_provider import AQTProvider\n",
    "# provider = AQTProvider(os.environ.get('AQT_ACCESS_KEY'))    # get your key from environment\n",
    "# provider_backend = provider.backends.aqt_qasm_simulator_noise_1\n",
    "# backend_id=\"aqt_qasm_simulator_noise_1\"\n",
    "\n",
    "# # An example using IonQ provider\n",
    "# from qiskit_ionq import IonQProvider\n",
    "# provider = IonQProvider()   # Be sure to set the QISKIT_IONQ_API_TOKEN environment variable\n",
    "# provider_backend = provider.get_backend(\"ionq_qpu\")\n",
    "# backend_id=\"ionq_qpu\"\n"
   ]
  },
  {
   "cell_type": "code",
   "execution_count": null,
   "metadata": {},
   "outputs": [],
   "source": [
    "# Custom optimization options can be specified in this cell (below is an example)\n",
    "\n",
    "# # Example of TrueQ Randomized Compilation\n",
    "# import _common.transformers.trueq_rc as trueq_rc\n",
    "# exec_options = { \"optimization_level\": 3, \"layout_method\":'sabre', \"routing_method\":'sabre', \"transformer\": trueq_rc.local_rc } \n",
    "\n",
    "# # Example of pytket Transformer\n",
    "# import _common.transformers.tket_optimiser as tket_optimiser\n",
    "# exec_options = { \"optimization_level\": 0, \"layout_method\":'sabre', \"routing_method\":'sabre', \"transformer\": tket_optimiser.high_optimisation }\n",
    "\n",
    "# # Define a custom noise model to be used during execution\n",
    "# import _common.custom.custom_qiskit_noise_model as custom_qiskit_noise_model\n",
    "# exec_options = { \"noise_model\": custom_qiskit_noise_model.my_noise_model() }\n"
   ]
  },
  {
   "cell_type": "markdown",
   "metadata": {},
   "source": [
    "### Hydrogen Lattice - Method 1"
   ]
  },
  {
   "cell_type": "code",
   "execution_count": null,
   "metadata": {
    "scrolled": false
   },
   "outputs": [],
   "source": [
    "import sys\n",
    "sys.path.insert(1, \"hydrogen-lattice/qiskit\")\n",
    "import hydrogen_lattice_benchmark\n",
    "\n",
    "# set noise to None for testing\n",
    "import execute\n",
    "execute.set_noise_model(None)\n",
    "\n",
    "hydrogen_lattice_benchmark.run(\n",
    "    min_qubits=min_qubits, max_qubits=max_qubits, max_circuits=max_circuits, num_shots=num_shots,\n",
    "    method=1, rounds=1,\n",
    "    backend_id=backend_id, provider_backend=provider_backend,\n",
    "    hub=hub, group=group, project=project, exec_options=exec_options\n",
    ")"
   ]
  },
  {
   "cell_type": "markdown",
   "metadata": {},
   "source": [
    "### Hydrogen Lattice - Method 2 - Degree 3 - Approximation Ratio as Objective Function"
   ]
  },
  {
   "cell_type": "code",
   "execution_count": null,
   "metadata": {
    "scrolled": false
   },
   "outputs": [],
   "source": [
    "import sys\n",
    "sys.path.insert(1, \"hydrogen-lattice/qiskit\")\n",
    "import hydrogen_lattice_benchmark\n",
    "\n",
    "# set noise to None for testing\n",
    "import execute\n",
    "execute.set_noise_model(None)\n",
    "\n",
    "# execute and display options\n",
    "objective_func_type = 'approx_ratio'\n",
    "score_metric=['approx_ratio', 'cvar_ratio']\n",
    "x_metric=['cumulative_elapsed_time', 'cumulative_exec_time', 'cumulative_opt_exec_time']\n",
    "\n",
    "# Note: the plots produced by this benchmark only use the last of the problems at each width\n",
    "\n",
    "hydrogen_lattice_benchmark.run(\n",
    "    min_qubits=min_qubits, max_qubits=max_qubits, max_circuits=max_circuits, num_shots=num_shots,\n",
    "    method=2, rounds=2, degree=3, do_fidelities=False, parameterized=False, use_fixed_angles=False,\n",
    "    score_metric=score_metric, x_metric=x_metric, save_res_to_file=True,\n",
    "    objective_func_type = objective_func_type,\n",
    "    backend_id=backend_id, provider_backend=provider_backend,\n",
    "    hub=hub, group=group, project=project, exec_options=exec_options\n",
    ")"
   ]
  },
  {
   "cell_type": "markdown",
   "metadata": {},
   "source": [
    "### Load Data From File and Regenerate Plots\n",
    "This cell can be used to re-load the data stored during benchmark execution and plot the results.\n",
    "\n",
    "Be sure to first execute the initial cell which sets the backend_id"
   ]
  },
  {
   "cell_type": "code",
   "execution_count": null,
   "metadata": {
    "scrolled": false
   },
   "outputs": [],
   "source": [
    "import os, hydrogen_lattice_benchmark\n",
    "backend_id = \"qasm_simulator\"\n",
    "hydrogen_lattice_benchmark.load_data_and_plot(os.path.join('__results', backend_id, 'approx_ratio'),\n",
    "                score_metric=['approx_ratio', 'cvar_ratio'],\n",
    "                x_metric=['cumulative_elapsed_time', 'cumulative_exec_time', 'cumulative_opt_exec_time'])"
   ]
  }
 ],
 "metadata": {
  "kernelspec": {
   "display_name": "Python 3",
   "language": "python",
   "name": "python3"
  },
  "language_info": {
   "codemirror_mode": {
    "name": "ipython",
    "version": 3
   },
   "file_extension": ".py",
   "mimetype": "text/x-python",
   "name": "python",
   "nbconvert_exporter": "python",
   "pygments_lexer": "ipython3",
   "version": "3.8.5"
  },
  "vscode": {
   "interpreter": {
    "hash": "87c0327dc9df8477896aec72b423d1e52b3932ea0fdb948c052603181ca8100b"
   }
  }
 },
 "nbformat": 4,
 "nbformat_minor": 4
}
