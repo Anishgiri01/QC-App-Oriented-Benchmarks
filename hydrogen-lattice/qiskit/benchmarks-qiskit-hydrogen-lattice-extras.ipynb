{
 "cells": [
  {
   "cell_type": "markdown",
   "metadata": {},
   "source": [
    "### QED-C Benchmarks - Qiskit - Hydrogen Lattice - Extras\n",
    "\n",
    "The notebook contains additional examples specific to this benchmark program."
   ]
  },
  {
   "cell_type": "code",
   "execution_count": null,
   "metadata": {
    "scrolled": true
   },
   "outputs": [],
   "source": [
    "min_qubits=2\n",
    "max_qubits=8\n",
    "max_circuits=1\n",
    "num_shots=1000\n",
    "\n",
    "backend_id=\"qasm_simulator\"\n",
    "hub=\"ibm-q\"; group=\"open\"; project=\"main\"\n",
    "provider_backend = None\n",
    "exec_options = {}\n",
    "\n",
    "# # *** If using IBMQ hardware, run this once to authenticate\n",
    "# from qiskit import IBMQ\n",
    "# IBMQ.save_account('YOUR_API_TOKEN_HERE')\n",
    "\n",
    "# # *** If you are part of an IBMQ group, set hub, group, and project name here\n",
    "# hub=\"YOUR_HUB_NAME\"\n",
    "# group=\"YOUR_GROUP_NAME\"\n",
    "# project=\"YOUR_PROJECT_NAME\"\n",
    "\n",
    "# # *** This example shows how to specify the backend using a known \"backend_id\"\n",
    "# # Use 'sabre' layout for IBM backends\n",
    "# exec_options = { \"optimization_level\":3, \"layout_method\":'sabre', \"routing_method\":'sabre',\n",
    "#                   \"use_sessions\":True, \"resilience_level\":1}\n",
    "# backend_id=\"ibmq_belem\"\n",
    "\n",
    "# # *** Here's an example of using a typical custom provider backend (e.g. AQT simulator)\n",
    "# import os\n",
    "# from qiskit_aqt_provider import AQTProvider\n",
    "# provider = AQTProvider(os.environ.get('AQT_ACCESS_KEY'))    # get your key from environment\n",
    "# provider_backend = provider.backends.aqt_qasm_simulator\n",
    "# backend_id=\"aqt_qasm_simulator\"\n",
    "\n",
    "# # An example using IonQ provider\n",
    "# from qiskit_ionq import IonQProvider\n",
    "# provider = IonQProvider()   # Be sure to set the QISKIT_IONQ_API_TOKEN environment variable\n",
    "# provider_backend = provider.get_backend(\"ionq_qpu\")\n",
    "# backend_id=\"ionq_qpu\"\n",
    "\n",
    "# # An example using BlueQubit provider\n",
    "# import sys\n",
    "# sys.path.insert(1, \"../..\")\n",
    "# import os, bluequbit, _common.executors.bluequbit_executor as bluequbit_executor\n",
    "# provider_backend = bluequbit.init()\n",
    "# backend_id=\"BlueQubit-CPU\"\n",
    "# exec_options = { \"executor\": bluequbit_executor.run, \"device\":'cpu' }\n"
   ]
  },
  {
   "cell_type": "markdown",
   "metadata": {},
   "source": [
    "### Load Data From File and Regenerate Plots\n",
    "This cell can be used to re-load the data stored during benchmark execution and plot the results.\n",
    "\n",
    "Be sure to first execute the initial cell which sets the backend_id"
   ]
  },
  {
   "cell_type": "code",
   "execution_count": null,
   "metadata": {
    "scrolled": false
   },
   "outputs": [],
   "source": [
    "import os, hydrogen_lattice_benchmark\n",
    "\n",
    "#backend_id=\"qasm_simulator\"\n",
    "\n",
    "# Additional arguments specific to Hydrogen Lattice benchmark method 2 plotting\n",
    "hl_app_args = dict(\n",
    "    \n",
    "    # display options for line plots (pairwise)\n",
    "    line_y_metrics=['energy', 'accuracy_ratio_error'],             # + 'solution_quality', 'accuracy_ratio', 'solution_quality_error'\n",
    "    line_x_metrics=['iteration_count', 'cumulative_exec_time'],    # + 'cumulative_elapsed_time'\n",
    "    plot_layout_style='grid',                                      # plot layout, can be 'grid', 'stacked', or 'individual'\n",
    "    \n",
    "    # display options for bar plots (exec time, accuracy ratio)\n",
    "    use_logscale_for_times=False,                                  # use log scale for cumulative exec time bar chart\n",
    "    \n",
    "    # display options for area plots (multiplicative)\n",
    "    score_metric=['accuracy_ratio'],                               # + 'solution_quality'\n",
    "    x_metric=['cumulative_exec_time', 'cumulative_elapsed_time'],  # + 'cumulative_opt_exec_time', \n",
    ")\n",
    "\n",
    "hydrogen_lattice_benchmark.load_data_and_plot(os.path.join('__data', backend_id, ''), backend_id=backend_id,                                             \n",
    "    **hl_app_args)\n"
   ]
  },
  {
   "cell_type": "markdown",
   "metadata": {},
   "source": [
    "### Hydrogen Lattice - Method 2 - Use Custom Minimizer Function\n",
    "\n",
    "This example shows how to configure a custom minimizer function for use in this benchmark.\n"
   ]
  },
  {
   "cell_type": "code",
   "execution_count": null,
   "metadata": {
    "scrolled": false
   },
   "outputs": [],
   "source": [
    "import sys\n",
    "sys.path.insert(1, \"hydrogen-lattice/qiskit\")\n",
    "import hydrogen_lattice_benchmark\n",
    "\n",
    "# define a custom Nelder-Mead minimizer function\n",
    "from scipy.optimize import minimize\n",
    "\n",
    "tol=0.01\n",
    "max_iter=30\n",
    "\n",
    "def my_minimizer(objective_function, initial_parameters, callback):\n",
    "\n",
    "    ret = minimize(objective_function,\n",
    "        x0=initial_parameters, \n",
    "\n",
    "        \n",
    "        # a custom minimizer \n",
    "        method='nelder-mead',\n",
    "        options={'xatol':tol, 'fatol':tol, 'maxiter': max_iter, 'maxfev': max_iter, 'disp': False},\n",
    "                   \n",
    "        callback=callback) \n",
    "    \n",
    "    print(f\"\\n... my_minimizer completed, return = \\n{ret}\")\n",
    "    return ret\n",
    "\n",
    "# Additional arguments specific to Hydrogen Lattice benchmark method 2\n",
    "hl_app_args = dict(   \n",
    "\n",
    "    max_iter=30,                # maximum minimizer iterations to perform\n",
    "    comfort=True,               # show 'comfort dots' during execution\n",
    "   \n",
    "    minimizer_function=my_minimizer,   # use custom minimizer function\n",
    ")\n",
    "\n",
    "# Run the benchmark in method 2\n",
    "hydrogen_lattice_benchmark.run(\n",
    "    min_qubits=min_qubits, max_qubits=max_qubits, max_circuits=max_circuits, num_shots=num_shots,\n",
    "    method=2, \n",
    "    backend_id=backend_id, provider_backend=provider_backend,\n",
    "    hub=hub, group=group, project=project, exec_options=exec_options,\n",
    "    **hl_app_args\n",
    ")"
   ]
  },
  {
   "cell_type": "code",
   "execution_count": null,
   "metadata": {},
   "outputs": [],
   "source": []
  }
 ],
 "metadata": {
  "kernelspec": {
   "display_name": "qiskit-test-ml",
   "language": "python",
   "name": "qiskit-test-ml"
  },
  "language_info": {
   "codemirror_mode": {
    "name": "ipython",
    "version": 3
   },
   "file_extension": ".py",
   "mimetype": "text/x-python",
   "name": "python",
   "nbconvert_exporter": "python",
   "pygments_lexer": "ipython3",
   "version": "3.9.7"
  }
 },
 "nbformat": 4,
 "nbformat_minor": 4
}
