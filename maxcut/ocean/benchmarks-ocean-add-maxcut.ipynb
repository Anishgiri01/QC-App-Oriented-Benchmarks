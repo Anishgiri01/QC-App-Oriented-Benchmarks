{
 "cells": [
  {
   "cell_type": "markdown",
   "metadata": {},
   "source": [
    "### QED-C Prototype Benchmarks - Qiskit Version\n",
    "The notebook contains a suite of prototype application benchmarks for the IBM Qiskit API.\n",
    "Configure and run the cell below with the desired execution settings.\n",
    "Then execute the remaining cells, each containing one prototype benchmark program."
   ]
  },
  {
   "cell_type": "code",
   "execution_count": 1,
   "metadata": {
    "scrolled": true
   },
   "outputs": [],
   "source": [
    "min_qubits=4\n",
    "max_qubits=8\n",
    "max_circuits=1\n",
    "num_shots=1000\n",
    "\n",
    "backend_id=\"pegasus\"\n",
    "#hub=\"ibm-q\"; group=\"open\"; project=\"main\"\n",
    "provider_backend = None\n",
    "exec_options = None\n",
    "\n",
    "# # *** If using IBMQ hardware, run this once to authenticate\n",
    "# from qiskit import IBMQ\n",
    "# IBMQ.save_account('YOUR_API_TOKEN_HERE')\n",
    "\n",
    "# # *** If you are part of an IBMQ group, set hub, group, and project name here\n",
    "# hub=\"YOUR_HUB_NAME\"\n",
    "# group=\"YOUR_GROUP_NAME\"\n",
    "# project=\"YOUR_PROJECT_NAME\"\n",
    "\n",
    "# # *** This example shows how to specify the backend using a known \"backend_id\"\n",
    "# # Use 'sabre' layout for IBM backends\n",
    "# exec_options = { \"optimization_level\":3, \"layout_method\":'sabre', \"routing_method\":'sabre' }\n",
    "# backend_id=\"ibmq_belem\"\n",
    "\n",
    "# # *** Here's an example of using a typical custom provider backend (e.g. AQT simulator)\n",
    "# import os\n",
    "# from qiskit_aqt_provider import AQTProvider\n",
    "# provider = AQTProvider(os.environ.get('AQT_ACCESS_KEY'))    # get your key from environment\n",
    "# provider_backend = provider.backends.aqt_qasm_simulator_noise_1\n",
    "# backend_id=\"aqt_qasm_simulator_noise_1\"\n",
    "\n",
    "# # An example using IonQ provider\n",
    "# from qiskit_ionq import IonQProvider\n",
    "# provider = IonQProvider()   # Be sure to set the QISKIT_IONQ_API_TOKEN environment variable\n",
    "# provider_backend = provider.get_backend(\"ionq_qpu\")\n",
    "# backend_id=\"ionq_qpu\"\n",
    "\n",
    "# An example using D-Wave Neal simulator\n",
    "from neal import SimulatedAnnealingSampler\n",
    "provider_backend = SimulatedAnnealingSampler()\n",
    "backend_id=\"pegasus\"\n",
    "\n",
    "# # An example using D-Wave provider\n",
    "# # Be sure to set the DWAVE_API_TOKEN environment variable\n",
    "# from dwave.system.samplers import DWaveSampler\n",
    "# from dwave.system import DWaveSampler, EmbeddingComposite, FixedEmbeddingComposite\n",
    "# provider_backend = DWaveSampler(token=token, solver={'topology__type': backend[\"backend_id\"]})\n",
    "# backend_id=\"dwave_qpu\"\n",
    "\n",
    "# # *** Use these settings for better results\n",
    "# min_qubits=4\n",
    "# max_qubits=10\n",
    "# max_circuits=2\n",
    "# num_shots=50000"
   ]
  },
  {
   "cell_type": "code",
   "execution_count": 2,
   "metadata": {},
   "outputs": [],
   "source": [
    "# Custom optimization options can be specified in this cell (below is an example)\n",
    "\n",
    "# # Add Qiskit pass manager as a custom 'transformer' method\n",
    "# import _common.transformers.qiskit_passmgr as qiskit_passmgr\n",
    "# exec_options = { \"optimization_level\":3, \"layout_method\":'sabre', \"routing_method\":'sabre', \"transformer\": qiskit_passmgr.do_transform }\n",
    "\n",
    "# # Example of TrueQ Randomized Compilation\n",
    "# import _common.transformers.trueq_rc as trueq_rc\n",
    "# exec_options = { \"optimization_level\":3, \"layout_method\":'sabre', \"routing_method\":'sabre', \"transformer\": trueq_rc.local_rc } \n",
    "\n",
    "# # Define a custom noise model to be used during execution\n",
    "# import _common.custom.custom_qiskit_noise_model as custom_qiskit_noise_model\n",
    "# exec_options = { \"noise_model\": custom_qiskit_noise_model.my_noise_model() }\n"
   ]
  },
  {
   "cell_type": "markdown",
   "metadata": {},
   "source": [
    "### Maxcut - Method 1"
   ]
  },
  {
   "cell_type": "code",
   "execution_count": 3,
   "metadata": {
    "scrolled": false
   },
   "outputs": [],
   "source": [
    "# import sys\n",
    "# sys.path.insert(1, \"maxcut/qiskit\")\n",
    "# import maxcut_benchmark\n",
    "\n",
    "# # set noise to None for testing\n",
    "# import execute\n",
    "# execute.set_noise_model(None)\n",
    "\n",
    "# maxcut_benchmark.run(\n",
    "#     min_qubits=min_qubits, max_qubits=max_qubits, max_circuits=max_circuits, num_shots=num_shots,\n",
    "#     method=1, rounds=1,\n",
    "#     backend_id=backend_id, provider_backend=provider_backend,\n",
    "#     hub=hub, group=group, project=project, exec_options=exec_options\n",
    "# )"
   ]
  },
  {
   "cell_type": "markdown",
   "metadata": {},
   "source": [
    "### Maxcut - Method 2 - Degree 3 - Approximation Ratio as Objective Function"
   ]
  },
  {
   "cell_type": "code",
   "execution_count": 4,
   "metadata": {
    "scrolled": false
   },
   "outputs": [
    {
     "name": "stdout",
     "output_type": "stream",
     "text": [
      "MaxCut Benchmark Program - Ocean\n",
      "... execution starting at Nov 03, 2022 14:26:05 UTC\n",
      "... using backend_id = pegasus\n",
      "************\n",
      "Executing [1] restarts for num_qubits = 4\n",
      "===============  Begin method 2 loop, enabling embed\n",
      "... using anneal time: 1\n"
     ]
    },
    {
     "ename": "TypeError",
     "evalue": "'module' object is not callable",
     "output_type": "error",
     "traceback": [
      "\u001b[1;31m---------------------------------------------------------------------------\u001b[0m",
      "\u001b[1;31mTypeError\u001b[0m                                 Traceback (most recent call last)",
      "\u001b[1;32m~\\AppData\\Local\\Temp/ipykernel_29176/3597583809.py\u001b[0m in \u001b[0;36m<module>\u001b[1;34m\u001b[0m\n\u001b[0;32m     13\u001b[0m \u001b[1;31m# Note: the plots produced by this benchmark only use the last of the problems at each width\u001b[0m\u001b[1;33m\u001b[0m\u001b[1;33m\u001b[0m\u001b[0m\n\u001b[0;32m     14\u001b[0m \u001b[1;33m\u001b[0m\u001b[0m\n\u001b[1;32m---> 15\u001b[1;33m maxcut_benchmark.run(\n\u001b[0m\u001b[0;32m     16\u001b[0m     \u001b[0mmin_qubits\u001b[0m\u001b[1;33m=\u001b[0m\u001b[0mmin_qubits\u001b[0m\u001b[1;33m,\u001b[0m \u001b[0mmax_qubits\u001b[0m\u001b[1;33m=\u001b[0m\u001b[0mmax_qubits\u001b[0m\u001b[1;33m,\u001b[0m \u001b[0mmax_circuits\u001b[0m\u001b[1;33m=\u001b[0m\u001b[0mmax_circuits\u001b[0m\u001b[1;33m,\u001b[0m \u001b[0mnum_shots\u001b[0m\u001b[1;33m=\u001b[0m\u001b[0mnum_shots\u001b[0m\u001b[1;33m,\u001b[0m\u001b[1;33m\u001b[0m\u001b[1;33m\u001b[0m\u001b[0m\n\u001b[0;32m     17\u001b[0m     \u001b[0mmethod\u001b[0m\u001b[1;33m=\u001b[0m\u001b[1;36m2\u001b[0m\u001b[1;33m,\u001b[0m \u001b[0mdegree\u001b[0m\u001b[1;33m=\u001b[0m\u001b[1;36m3\u001b[0m\u001b[1;33m,\u001b[0m \u001b[0mdo_fidelities\u001b[0m\u001b[1;33m=\u001b[0m\u001b[1;32mFalse\u001b[0m\u001b[1;33m,\u001b[0m \u001b[0mparameterized\u001b[0m\u001b[1;33m=\u001b[0m\u001b[1;32mFalse\u001b[0m\u001b[1;33m,\u001b[0m\u001b[1;33m\u001b[0m\u001b[1;33m\u001b[0m\u001b[0m\n",
      "\u001b[1;32m~\\QCI-TL\\github\\QC-App-Oriented-Benchmarks-maxcut-dwave\\maxcut\\ocean\\maxcut_benchmark.py\u001b[0m in \u001b[0;36mrun\u001b[1;34m(min_qubits, max_qubits, max_circuits, num_shots, method, rounds, degree, alpha, thetas_array, parameterized, do_fidelities, max_iter, score_metric, x_metric, y_metric, fixed_metrics, num_x_bins, y_size, x_size, objective_func_type, plot_results, save_res_to_file, save_final_counts, detailed_save_names, comfort, backend_id, provider_backend, eta, hub, group, project, exec_options, _instances)\u001b[0m\n\u001b[0;32m    898\u001b[0m                     \u001b[1;31m# create the circuit for given qubit size, secret string and params, store time metric\u001b[0m\u001b[1;33m\u001b[0m\u001b[1;33m\u001b[0m\u001b[0m\n\u001b[0;32m    899\u001b[0m                     \u001b[0mts\u001b[0m \u001b[1;33m=\u001b[0m \u001b[0mtime\u001b[0m\u001b[1;33m.\u001b[0m\u001b[0mtime\u001b[0m\u001b[1;33m(\u001b[0m\u001b[1;33m)\u001b[0m\u001b[1;33m\u001b[0m\u001b[1;33m\u001b[0m\u001b[0m\n\u001b[1;32m--> 900\u001b[1;33m                     \u001b[0mqc\u001b[0m\u001b[1;33m,\u001b[0m \u001b[0mparams\u001b[0m \u001b[1;33m=\u001b[0m \u001b[0mMaxCut\u001b[0m\u001b[1;33m(\u001b[0m\u001b[0mnum_qubits\u001b[0m\u001b[1;33m,\u001b[0m \u001b[0munique_id\u001b[0m\u001b[1;33m,\u001b[0m \u001b[0medges\u001b[0m\u001b[1;33m,\u001b[0m \u001b[0mparameterized\u001b[0m\u001b[1;33m)\u001b[0m\u001b[1;33m\u001b[0m\u001b[1;33m\u001b[0m\u001b[0m\n\u001b[0m\u001b[0;32m    901\u001b[0m                     \u001b[0mmetrics\u001b[0m\u001b[1;33m.\u001b[0m\u001b[0mstore_metric\u001b[0m\u001b[1;33m(\u001b[0m\u001b[0mnum_qubits\u001b[0m\u001b[1;33m,\u001b[0m \u001b[0munique_id\u001b[0m\u001b[1;33m,\u001b[0m \u001b[1;34m'create_time'\u001b[0m\u001b[1;33m,\u001b[0m \u001b[0mtime\u001b[0m\u001b[1;33m.\u001b[0m\u001b[0mtime\u001b[0m\u001b[1;33m(\u001b[0m\u001b[1;33m)\u001b[0m\u001b[1;33m-\u001b[0m\u001b[0mts\u001b[0m\u001b[1;33m)\u001b[0m\u001b[1;33m\u001b[0m\u001b[1;33m\u001b[0m\u001b[0m\n\u001b[0;32m    902\u001b[0m \u001b[1;33m\u001b[0m\u001b[0m\n",
      "\u001b[1;32m~\\QCI-TL\\github\\QC-App-Oriented-Benchmarks-maxcut-dwave\\maxcut\\ocean\\maxcut_benchmark.py\u001b[0m in \u001b[0;36mMaxCut\u001b[1;34m(num_qubits, secret_int, edges, measured)\u001b[0m\n\u001b[0;32m     81\u001b[0m \u001b[1;33m\u001b[0m\u001b[0m\n\u001b[0;32m     82\u001b[0m     \u001b[1;31m# and create the hamiltonian\u001b[0m\u001b[1;33m\u001b[0m\u001b[1;33m\u001b[0m\u001b[0m\n\u001b[1;32m---> 83\u001b[1;33m     \u001b[0mcircuitProxy\u001b[0m \u001b[1;33m=\u001b[0m \u001b[0mcreate_circ\u001b[0m\u001b[1;33m(\u001b[0m\u001b[0mnum_qubits\u001b[0m\u001b[1;33m,\u001b[0m \u001b[0medges\u001b[0m\u001b[1;33m)\u001b[0m\u001b[1;33m\u001b[0m\u001b[1;33m\u001b[0m\u001b[0m\n\u001b[0m\u001b[0;32m     84\u001b[0m \u001b[1;33m\u001b[0m\u001b[0m\n\u001b[0;32m     85\u001b[0m     \u001b[1;31m# pre-compute and save an array of expected measurements\u001b[0m\u001b[1;33m\u001b[0m\u001b[1;33m\u001b[0m\u001b[0m\n",
      "\u001b[1;32m~\\QCI-TL\\github\\QC-App-Oriented-Benchmarks-maxcut-dwave\\maxcut\\ocean\\maxcut_benchmark.py\u001b[0m in \u001b[0;36mcreate_circ\u001b[1;34m(nqubits, edges)\u001b[0m\n\u001b[0;32m     69\u001b[0m             \u001b[0mJ\u001b[0m\u001b[1;33m[\u001b[0m\u001b[0me\u001b[0m\u001b[1;33m]\u001b[0m \u001b[1;33m=\u001b[0m \u001b[1;36m1\u001b[0m\u001b[1;33m\u001b[0m\u001b[1;33m\u001b[0m\u001b[0m\n\u001b[0;32m     70\u001b[0m \u001b[1;33m\u001b[0m\u001b[0m\n\u001b[1;32m---> 71\u001b[1;33m     \u001b[0mcircuitProxy\u001b[0m \u001b[1;33m=\u001b[0m \u001b[0mHamiltonianCircuitProxy\u001b[0m\u001b[1;33m(\u001b[0m\u001b[1;33m)\u001b[0m\u001b[1;33m\u001b[0m\u001b[1;33m\u001b[0m\u001b[0m\n\u001b[0m\u001b[0;32m     72\u001b[0m     \u001b[0mcircuitProxy\u001b[0m\u001b[1;33m.\u001b[0m\u001b[0mh\u001b[0m \u001b[1;33m=\u001b[0m \u001b[0mh\u001b[0m\u001b[1;33m\u001b[0m\u001b[1;33m\u001b[0m\u001b[0m\n\u001b[0;32m     73\u001b[0m     \u001b[0mcircuitProxy\u001b[0m\u001b[1;33m.\u001b[0m\u001b[0mJ\u001b[0m \u001b[1;33m=\u001b[0m \u001b[0mJ\u001b[0m\u001b[1;33m\u001b[0m\u001b[1;33m\u001b[0m\u001b[0m\n",
      "\u001b[1;31mTypeError\u001b[0m: 'module' object is not callable"
     ]
    }
   ],
   "source": [
    "import sys\n",
    "sys.path.insert(1, \"maxcut/qiskit\")\n",
    "import maxcut_benchmark\n",
    "\n",
    "# set noise to None for testing\n",
    "# import execute\n",
    "# execute.set_noise_model(None)\n",
    "\n",
    "objective_func_type = 'approx_ratio'\n",
    "score_metric=[objective_func_type]\n",
    "x_metric=['cumulative_exec_time', 'cumulative_elapsed_time', 'cumulative_opt_exec_time']\n",
    "\n",
    "# Note: the plots produced by this benchmark only use the last of the problems at each width\n",
    "\n",
    "maxcut_benchmark.run(\n",
    "    min_qubits=min_qubits, max_qubits=max_qubits, max_circuits=max_circuits, num_shots=num_shots,\n",
    "    method=2, degree=3, do_fidelities=False, parameterized=False,\n",
    "    score_metric=score_metric, x_metric=x_metric, \n",
    "    objective_func_type = objective_func_type,\n",
    "    backend_id=backend_id, provider_backend=provider_backend,\n",
    "    exec_options=exec_options\n",
    ")\n",
    "\n",
    "# maxcut_benchmark.run(\n",
    "#     min_qubits=min_qubits, max_qubits=max_qubits, max_circuits=max_circuits, num_shots=num_shots,\n",
    "#     method=2, rounds=2, degree=3, do_fidelities=False, parameterized=False,\n",
    "#     score_metric=score_metric, x_metric=x_metric, \n",
    "#     objective_func_type = objective_func_type,\n",
    "#     backend_id=backend_id, provider_backend=provider_backend,\n",
    "#     hub=hub, group=group, project=project, exec_options=exec_options\n",
    "# )\n"
   ]
  }
 ],
 "metadata": {
  "kernelspec": {
   "display_name": "Python 3 (ipykernel)",
   "language": "python",
   "name": "python3"
  },
  "language_info": {
   "codemirror_mode": {
    "name": "ipython",
    "version": 3
   },
   "file_extension": ".py",
   "mimetype": "text/x-python",
   "name": "python",
   "nbconvert_exporter": "python",
   "pygments_lexer": "ipython3",
   "version": "3.9.7"
  },
  "vscode": {
   "interpreter": {
    "hash": "87c0327dc9df8477896aec72b423d1e52b3932ea0fdb948c052603181ca8100b"
   }
  }
 },
 "nbformat": 4,
 "nbformat_minor": 4
}
