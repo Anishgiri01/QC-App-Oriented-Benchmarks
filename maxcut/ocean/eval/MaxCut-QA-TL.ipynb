{
 "cells": [
  {
   "cell_type": "code",
   "execution_count": 10,
   "id": "8122a56c",
   "metadata": {},
   "outputs": [
    {
     "name": "stdout",
     "output_type": "stream",
     "text": [
      "sys.version_info(major=3, minor=9, micro=7, releaselevel='final', serial=0)\n",
      "Collecting dwave-inspector\n",
      "  Using cached dwave_inspector-0.3.0-py3-none-any.whl (26 kB)\n",
      "Requirement already satisfied: dwave-system>=1.3.0 in c:\\programdata\\miniconda3\\envs\\qiskit-work\\lib\\site-packages (from dwave-inspector) (1.16.0)\n",
      "Requirement already satisfied: dimod>=0.8.17 in c:\\programdata\\miniconda3\\envs\\qiskit-work\\lib\\site-packages (from dwave-inspector) (0.12.0)\n",
      "Requirement already satisfied: numpy in c:\\programdata\\miniconda3\\envs\\qiskit-work\\lib\\site-packages (from dwave-inspector) (1.21.3)\n",
      "Requirement already satisfied: dwave-cloud-client>=0.8.3 in c:\\programdata\\miniconda3\\envs\\qiskit-work\\lib\\site-packages (from dwave-inspector) (0.10.3)\n",
      "Collecting Flask>=1.1.1\n",
      "  Using cached Flask-2.2.2-py3-none-any.whl (101 kB)\n",
      "Requirement already satisfied: pydantic>=1.7.3 in c:\\programdata\\miniconda3\\envs\\qiskit-work\\lib\\site-packages (from dwave-cloud-client>=0.8.3->dwave-inspector) (1.10.2)\n",
      "Requirement already satisfied: requests[socks]>=2.18 in c:\\programdata\\miniconda3\\envs\\qiskit-work\\lib\\site-packages (from dwave-cloud-client>=0.8.3->dwave-inspector) (2.26.0)\n",
      "Requirement already satisfied: python-dateutil>=2.7 in c:\\programdata\\miniconda3\\envs\\qiskit-work\\lib\\site-packages (from dwave-cloud-client>=0.8.3->dwave-inspector) (2.8.2)\n",
      "Requirement already satisfied: plucky>=0.4.3 in c:\\programdata\\miniconda3\\envs\\qiskit-work\\lib\\site-packages (from dwave-cloud-client>=0.8.3->dwave-inspector) (0.4.3)\n",
      "Requirement already satisfied: click>=7.0 in c:\\programdata\\miniconda3\\envs\\qiskit-work\\lib\\site-packages (from dwave-cloud-client>=0.8.3->dwave-inspector) (8.1.3)\n",
      "Requirement already satisfied: homebase>=1.0 in c:\\programdata\\miniconda3\\envs\\qiskit-work\\lib\\site-packages (from dwave-cloud-client>=0.8.3->dwave-inspector) (1.0.1)\n",
      "Requirement already satisfied: diskcache>=5.2.1 in c:\\programdata\\miniconda3\\envs\\qiskit-work\\lib\\site-packages (from dwave-cloud-client>=0.8.3->dwave-inspector) (5.4.0)\n",
      "Requirement already satisfied: colorama in c:\\programdata\\miniconda3\\envs\\qiskit-work\\lib\\site-packages (from click>=7.0->dwave-cloud-client>=0.8.3->dwave-inspector) (0.4.4)\n",
      "Requirement already satisfied: networkx<3.0,>=2.0 in c:\\programdata\\miniconda3\\envs\\qiskit-work\\lib\\site-packages (from dwave-system>=1.3.0->dwave-inspector) (2.8.8)\n",
      "Requirement already satisfied: scipy<2.0.0,>=1.5.2 in c:\\programdata\\miniconda3\\envs\\qiskit-work\\lib\\site-packages (from dwave-system>=1.3.0->dwave-inspector) (1.7.1)\n",
      "Requirement already satisfied: dwave-networkx>=0.8.10 in c:\\programdata\\miniconda3\\envs\\qiskit-work\\lib\\site-packages (from dwave-system>=1.3.0->dwave-inspector) (0.8.12)\n",
      "Requirement already satisfied: dwave-greedy>=0.2.0 in c:\\programdata\\miniconda3\\envs\\qiskit-work\\lib\\site-packages (from dwave-system>=1.3.0->dwave-inspector) (0.2.5)\n",
      "Requirement already satisfied: dwave-preprocessing>=0.3 in c:\\programdata\\miniconda3\\envs\\qiskit-work\\lib\\site-packages (from dwave-system>=1.3.0->dwave-inspector) (0.5.1)\n",
      "Requirement already satisfied: minorminer<0.3.0,>=0.2.8 in c:\\programdata\\miniconda3\\envs\\qiskit-work\\lib\\site-packages (from dwave-system>=1.3.0->dwave-inspector) (0.2.9)\n",
      "Collecting itsdangerous>=2.0\n",
      "  Using cached itsdangerous-2.1.2-py3-none-any.whl (15 kB)\n",
      "Collecting Werkzeug>=2.2.2\n",
      "  Using cached Werkzeug-2.2.2-py3-none-any.whl (232 kB)\n",
      "Requirement already satisfied: Jinja2>=3.0 in c:\\programdata\\miniconda3\\envs\\qiskit-work\\lib\\site-packages (from Flask>=1.1.1->dwave-inspector) (3.0.2)\n",
      "Collecting importlib-metadata>=3.6.0\n",
      "  Using cached importlib_metadata-5.0.0-py3-none-any.whl (21 kB)\n",
      "Requirement already satisfied: zipp>=0.5 in c:\\programdata\\miniconda3\\envs\\qiskit-work\\lib\\site-packages (from importlib-metadata>=3.6.0->Flask>=1.1.1->dwave-inspector) (3.10.0)\n",
      "Requirement already satisfied: MarkupSafe>=2.0 in c:\\programdata\\miniconda3\\envs\\qiskit-work\\lib\\site-packages (from Jinja2>=3.0->Flask>=1.1.1->dwave-inspector) (2.1.1)\n",
      "Requirement already satisfied: fasteners in c:\\programdata\\miniconda3\\envs\\qiskit-work\\lib\\site-packages (from minorminer<0.3.0,>=0.2.8->dwave-system>=1.3.0->dwave-inspector) (0.18)\n",
      "Requirement already satisfied: rectangle-packer>=2.0.1 in c:\\programdata\\miniconda3\\envs\\qiskit-work\\lib\\site-packages (from minorminer<0.3.0,>=0.2.8->dwave-system>=1.3.0->dwave-inspector) (2.0.1)\n",
      "Requirement already satisfied: typing-extensions>=4.1.0 in c:\\programdata\\miniconda3\\envs\\qiskit-work\\lib\\site-packages (from pydantic>=1.7.3->dwave-cloud-client>=0.8.3->dwave-inspector) (4.4.0)\n",
      "Requirement already satisfied: six>=1.5 in c:\\programdata\\miniconda3\\envs\\qiskit-work\\lib\\site-packages (from python-dateutil>=2.7->dwave-cloud-client>=0.8.3->dwave-inspector) (1.16.0)\n",
      "Requirement already satisfied: charset-normalizer~=2.0.0 in c:\\programdata\\miniconda3\\envs\\qiskit-work\\lib\\site-packages (from requests[socks]>=2.18->dwave-cloud-client>=0.8.3->dwave-inspector) (2.0.7)\n",
      "Requirement already satisfied: urllib3<1.27,>=1.21.1 in c:\\programdata\\miniconda3\\envs\\qiskit-work\\lib\\site-packages (from requests[socks]>=2.18->dwave-cloud-client>=0.8.3->dwave-inspector) (1.26.7)\n",
      "Requirement already satisfied: idna<4,>=2.5 in c:\\programdata\\miniconda3\\envs\\qiskit-work\\lib\\site-packages (from requests[socks]>=2.18->dwave-cloud-client>=0.8.3->dwave-inspector) (3.3)\n",
      "Requirement already satisfied: certifi>=2017.4.17 in c:\\programdata\\miniconda3\\envs\\qiskit-work\\lib\\site-packages (from requests[socks]>=2.18->dwave-cloud-client>=0.8.3->dwave-inspector) (2021.10.8)\n",
      "Requirement already satisfied: PySocks!=1.5.7,>=1.5.6 in c:\\programdata\\miniconda3\\envs\\qiskit-work\\lib\\site-packages (from requests[socks]>=2.18->dwave-cloud-client>=0.8.3->dwave-inspector) (1.7.1)\n",
      "Installing collected packages: Werkzeug, itsdangerous, importlib-metadata, Flask, dwave-inspector\n",
      "Successfully installed Flask-2.2.2 Werkzeug-2.2.2 dwave-inspector-0.3.0 importlib-metadata-5.0.0 itsdangerous-2.1.2\n"
     ]
    },
    {
     "name": "stderr",
     "output_type": "stream",
     "text": [
      "  WARNING: The script flask.exe is installed in 'C:\\ProgramData\\Miniconda3\\envs\\qiskit-work\\Scripts' which is not on PATH.\n",
      "  Consider adding this directory to PATH or, if you prefer to suppress this warning, use --no-warn-script-location.\n"
     ]
    }
   ],
   "source": [
    "import sys\n",
    "print(sys.version_info)\n",
    "\n",
    "#!{sys.executable} -m pip install dwave-ocean-sdk\n",
    "#!{sys.executable} -m pip install dwave-neal\n",
    "#!{sys.executable} -m pip install dwave-system\n",
    "#!{sys.executable} -m pip install dwave-inspector\n",
    "\n",
    "import neal"
   ]
  },
  {
   "cell_type": "code",
   "execution_count": 11,
   "id": "671fba1a",
   "metadata": {},
   "outputs": [
    {
     "name": "stdout",
     "output_type": "stream",
     "text": [
      "The autoreload extension is already loaded. To reload it, use:\n",
      "  %reload_ext autoreload\n"
     ]
    }
   ],
   "source": [
    "%load_ext autoreload\n",
    "%autoreload\n",
    "\n",
    "import getpass\n",
    "import common\n",
    "import maxcut\n",
    "import dwave.inspector\n",
    "import csv\n",
    "from itertools import count"
   ]
  },
  {
   "cell_type": "markdown",
   "id": "0c411acc",
   "metadata": {},
   "source": [
    "### Constants"
   ]
  },
  {
   "cell_type": "code",
   "execution_count": 12,
   "id": "ebea3db8",
   "metadata": {},
   "outputs": [],
   "source": [
    "SEPERATOR = \"--------------------------------------------------\"\n",
    "path = \"instance-final/mc_320_003_000.txt\"\n",
    "outputFile = \"maxcut_results.csv\""
   ]
  },
  {
   "cell_type": "code",
   "execution_count": 13,
   "id": "1563541c",
   "metadata": {
    "scrolled": false
   },
   "outputs": [
    {
     "name": "stdout",
     "output_type": "stream",
     "text": [
      "D-Wave Key: ········\n",
      "Key Accepted\n"
     ]
    }
   ],
   "source": [
    "# Get key to use for D-Wave Call\n",
    "prompt = \"\" \n",
    "token = \"\"\n",
    "try:\n",
    "    prompt = getpass.getpass(prompt=\"D-Wave Key: \", stream=None) \n",
    "except Exception as error:\n",
    "    print('ERROR', error)\n",
    "else:\n",
    "    print(\"Key Accepted\")"
   ]
  },
  {
   "cell_type": "code",
   "execution_count": 16,
   "id": "d40944cf",
   "metadata": {},
   "outputs": [],
   "source": [
    "# Load nodes and edges\n",
    "nodes, edges = common.read_maxcut_instance(path)"
   ]
  },
  {
   "cell_type": "markdown",
   "id": "a4dfd2e6",
   "metadata": {},
   "source": [
    "# Simulated Annealing"
   ]
  },
  {
   "cell_type": "code",
   "execution_count": 17,
   "id": "cdde7c85-c19c-45cf-80a1-fb5942a4fa72",
   "metadata": {
    "scrolled": false,
    "tags": []
   },
   "outputs": [
    {
     "name": "stdout",
     "output_type": "stream",
     "text": [
      "{'stats': {'max': 441, 'mean': 438.4856, 'sd': 1.4621286550918864, 'wallClockStart': 1667457279.6667407, 'wallClockEnd': 1667457295.6176667}, 'timing': {'beta_range': [0.23104906018664842, 4.605170185988092], 'beta_schedule_type': 'geometric'}, 'solution': {0: 1, 1: -1, 2: 1, 3: -1, 4: 1, 5: 1, 6: 1, 7: -1, 8: 1, 9: 1, 10: 1, 11: 1, 12: 1, 13: -1, 14: -1, 15: 1, 16: 1, 17: 1, 18: 1, 19: 1, 20: -1, 21: -1, 22: 1, 23: 1, 24: -1, 25: -1, 26: -1, 27: 1, 28: -1, 29: -1, 30: 1, 31: 1, 32: 1, 33: 1, 34: -1, 35: 1, 36: -1, 37: -1, 38: -1, 39: -1, 40: -1, 41: -1, 42: -1, 43: 1, 44: -1, 45: -1, 46: -1, 47: -1, 48: -1, 49: 1, 50: 1, 51: 1, 52: -1, 53: -1, 54: 1, 55: -1, 56: 1, 57: 1, 58: 1, 59: 1, 60: -1, 61: -1, 62: 1, 63: -1, 64: 1, 65: -1, 66: -1, 67: 1, 68: -1, 69: -1, 70: 1, 71: 1, 72: -1, 73: 1, 74: 1, 75: -1, 76: 1, 77: 1, 78: 1, 79: 1, 80: 1, 81: 1, 82: -1, 83: 1, 84: 1, 85: -1, 86: -1, 87: -1, 88: -1, 89: 1, 90: -1, 91: -1, 92: 1, 93: 1, 94: 1, 95: 1, 96: 1, 97: -1, 98: 1, 99: -1, 100: -1, 101: 1, 102: -1, 103: 1, 104: 1, 105: 1, 106: -1, 107: -1, 108: -1, 109: 1, 110: 1, 111: 1, 112: 1, 113: -1, 114: 1, 115: -1, 116: 1, 117: 1, 118: -1, 119: -1, 120: -1, 121: -1, 122: 1, 123: 1, 124: 1, 125: 1, 126: 1, 127: -1, 128: -1, 129: 1, 130: -1, 131: -1, 132: -1, 133: 1, 134: -1, 135: -1, 136: -1, 137: -1, 138: -1, 139: -1, 140: -1, 141: -1, 142: -1, 143: -1, 144: 1, 145: 1, 146: -1, 147: -1, 148: -1, 149: -1, 150: -1, 151: 1, 152: 1, 153: -1, 154: 1, 155: -1, 156: -1, 157: -1, 158: 1, 159: -1, 160: 1, 161: 1, 162: -1, 163: 1, 164: -1, 165: -1, 166: -1, 167: -1, 168: 1, 169: 1, 170: -1, 171: -1, 172: -1, 173: -1, 174: 1, 175: 1, 176: 1, 177: -1, 178: 1, 179: 1, 180: 1, 181: 1, 182: 1, 183: 1, 184: -1, 185: 1, 186: -1, 187: -1, 188: -1, 189: 1, 190: -1, 191: 1, 192: -1, 193: -1, 194: 1, 195: 1, 196: 1, 197: 1, 198: 1, 199: 1, 200: -1, 201: -1, 202: 1, 203: 1, 204: -1, 205: 1, 206: 1, 207: 1, 208: -1, 209: -1, 210: 1, 211: -1, 212: -1, 213: 1, 214: -1, 215: -1, 216: -1, 217: 1, 218: -1, 219: -1, 220: 1, 221: 1, 222: -1, 223: 1, 224: 1, 225: -1, 226: -1, 227: -1, 228: 1, 229: -1, 230: -1, 231: -1, 232: 1, 233: -1, 234: -1, 235: 1, 236: 1, 237: 1, 238: -1, 239: 1, 240: -1, 241: -1, 242: -1, 243: -1, 244: -1, 245: 1, 246: 1, 247: -1, 248: 1, 249: -1, 250: -1, 251: -1, 252: 1, 253: 1, 254: -1, 255: -1, 256: -1, 257: -1, 258: -1, 259: 1, 260: 1, 261: -1, 262: -1, 263: -1, 264: -1, 265: 1, 266: 1, 267: -1, 268: -1, 269: -1, 270: -1, 271: 1, 272: -1, 273: 1, 274: 1, 275: -1, 276: 1, 277: 1, 278: -1, 279: -1, 280: 1, 281: 1, 282: 1, 283: -1, 284: -1, 285: 1, 286: 1, 287: -1, 288: -1, 289: -1, 290: 1, 291: -1, 292: 1, 293: -1, 294: 1, 295: 1, 296: -1, 297: -1, 298: -1, 299: 1, 300: 1, 301: 1, 302: 1, 303: 1, 304: 1, 305: 1, 306: 1, 307: 1, 308: 1, 309: -1, 310: 1, 311: -1, 312: 1, 313: 1, 314: -1, 315: 1, 316: 1, 317: 1, 318: -1, 319: 1}}\n"
     ]
    }
   ],
   "source": [
    "result = maxcut.maxcut_sa(nodes, edges, 5000)\n",
    "print(result)"
   ]
  },
  {
   "cell_type": "markdown",
   "id": "63f2a472",
   "metadata": {},
   "source": [
    "# Quantum Annealing"
   ]
  },
  {
   "cell_type": "code",
   "execution_count": 18,
   "id": "213e07be",
   "metadata": {
    "scrolled": false,
    "tags": []
   },
   "outputs": [
    {
     "name": "stdout",
     "output_type": "stream",
     "text": [
      "Created  Embedding\n"
     ]
    },
    {
     "ename": "ValueError",
     "evalue": "API token not defined",
     "output_type": "error",
     "traceback": [
      "\u001b[1;31m---------------------------------------------------------------------------\u001b[0m",
      "\u001b[1;31mValueError\u001b[0m                                Traceback (most recent call last)",
      "\u001b[1;32m~\\AppData\\Local\\Temp/ipykernel_4324/1944588339.py\u001b[0m in \u001b[0;36m<module>\u001b[1;34m\u001b[0m\n\u001b[0;32m     20\u001b[0m           \u001b[0mprint\u001b[0m \u001b[1;33m(\u001b[0m\u001b[1;34m\"Created \"\u001b[0m \u001b[1;32mif\u001b[0m \u001b[0membeddingCreated\u001b[0m \u001b[1;32melse\u001b[0m \u001b[1;34m\"Reused \"\u001b[0m\u001b[1;33m,\u001b[0m \u001b[1;34m\"Embedding\"\u001b[0m\u001b[1;33m)\u001b[0m\u001b[1;33m\u001b[0m\u001b[1;33m\u001b[0m\u001b[0m\n\u001b[0;32m     21\u001b[0m \u001b[1;33m\u001b[0m\u001b[0m\n\u001b[1;32m---> 22\u001b[1;33m           \u001b[0msampleset\u001b[0m\u001b[1;33m,\u001b[0m \u001b[0mresult\u001b[0m\u001b[1;33m,\u001b[0m \u001b[0membedding\u001b[0m \u001b[1;33m=\u001b[0m \u001b[0mmaxcut\u001b[0m\u001b[1;33m.\u001b[0m\u001b[0mmaxcut_qa\u001b[0m\u001b[1;33m(\u001b[0m\u001b[0mnodes\u001b[0m\u001b[1;33m,\u001b[0m \u001b[0medges\u001b[0m\u001b[1;33m,\u001b[0m \u001b[0mshots\u001b[0m\u001b[1;33m,\u001b[0m \u001b[0mtoken\u001b[0m\u001b[1;33m,\u001b[0m \u001b[0mx\u001b[0m\u001b[1;33m,\u001b[0m \u001b[0membedding\u001b[0m\u001b[1;33m)\u001b[0m\u001b[1;33m\u001b[0m\u001b[1;33m\u001b[0m\u001b[0m\n\u001b[0m\u001b[0;32m     23\u001b[0m \u001b[1;33m\u001b[0m\u001b[0m\n\u001b[0;32m     24\u001b[0m           \u001b[1;31m# sample to file\u001b[0m\u001b[1;33m\u001b[0m\u001b[1;33m\u001b[0m\u001b[0m\n",
      "\u001b[1;32m~\\QCI-TL\\github\\QC-App-Oriented-Benchmarks-maxcut-dwave\\maxcut\\ocean\\eval\\maxcut.py\u001b[0m in \u001b[0;36mmaxcut_qa\u001b[1;34m(nodes, edges, shots, token, solverTime, embedding)\u001b[0m\n\u001b[0;32m     83\u001b[0m     \u001b[0mresults\u001b[0m\u001b[1;33m[\u001b[0m\u001b[1;34m\"stats\"\u001b[0m\u001b[1;33m]\u001b[0m\u001b[1;33m[\u001b[0m\u001b[1;34m\"wallClockStart\"\u001b[0m\u001b[1;33m]\u001b[0m \u001b[1;33m=\u001b[0m \u001b[0mtime\u001b[0m\u001b[1;33m.\u001b[0m\u001b[0mtime\u001b[0m\u001b[1;33m(\u001b[0m\u001b[1;33m)\u001b[0m\u001b[1;33m\u001b[0m\u001b[1;33m\u001b[0m\u001b[0m\n\u001b[0;32m     84\u001b[0m \u001b[1;33m\u001b[0m\u001b[0m\n\u001b[1;32m---> 85\u001b[1;33m     \u001b[0mqpu\u001b[0m \u001b[1;33m=\u001b[0m \u001b[0mDWaveSampler\u001b[0m\u001b[1;33m(\u001b[0m\u001b[0mtoken\u001b[0m\u001b[1;33m=\u001b[0m\u001b[0mtoken\u001b[0m\u001b[1;33m,\u001b[0m \u001b[0msolver\u001b[0m\u001b[1;33m=\u001b[0m\u001b[1;33m{\u001b[0m\u001b[1;34m'topology__type'\u001b[0m\u001b[1;33m:\u001b[0m \u001b[1;34m'pegasus'\u001b[0m\u001b[1;33m}\u001b[0m\u001b[1;33m)\u001b[0m\u001b[1;33m\u001b[0m\u001b[1;33m\u001b[0m\u001b[0m\n\u001b[0m\u001b[0;32m     86\u001b[0m \u001b[1;33m\u001b[0m\u001b[0m\n\u001b[0;32m     87\u001b[0m     \u001b[1;32mif\u001b[0m \u001b[1;33m(\u001b[0m\u001b[0membedding\u001b[0m\u001b[1;33m==\u001b[0m\u001b[1;32mNone\u001b[0m\u001b[1;33m)\u001b[0m\u001b[1;33m:\u001b[0m\u001b[1;33m\u001b[0m\u001b[1;33m\u001b[0m\u001b[0m\n",
      "\u001b[1;32mC:\\ProgramData\\Miniconda3\\envs\\qiskit-work\\lib\\site-packages\\dwave\\system\\samplers\\dwave_sampler.py\u001b[0m in \u001b[0;36m__init__\u001b[1;34m(self, failover, retry_interval, **config)\u001b[0m\n\u001b[0;32m    174\u001b[0m         \u001b[0mdefaults\u001b[0m\u001b[1;33m.\u001b[0m\u001b[0mupdate\u001b[0m\u001b[1;33m(\u001b[0m\u001b[0msolver\u001b[0m\u001b[1;33m=\u001b[0m\u001b[0mdict\u001b[0m\u001b[1;33m(\u001b[0m\u001b[0morder_by\u001b[0m\u001b[1;33m=\u001b[0m\u001b[1;34m'-num_active_qubits'\u001b[0m\u001b[1;33m)\u001b[0m\u001b[1;33m)\u001b[0m\u001b[1;33m\u001b[0m\u001b[1;33m\u001b[0m\u001b[0m\n\u001b[0;32m    175\u001b[0m \u001b[1;33m\u001b[0m\u001b[0m\n\u001b[1;32m--> 176\u001b[1;33m         \u001b[0mself\u001b[0m\u001b[1;33m.\u001b[0m\u001b[0mclient\u001b[0m \u001b[1;33m=\u001b[0m \u001b[0mClient\u001b[0m\u001b[1;33m.\u001b[0m\u001b[0mfrom_config\u001b[0m\u001b[1;33m(\u001b[0m\u001b[1;33m**\u001b[0m\u001b[0mconfig\u001b[0m\u001b[1;33m)\u001b[0m\u001b[1;33m\u001b[0m\u001b[1;33m\u001b[0m\u001b[0m\n\u001b[0m\u001b[0;32m    177\u001b[0m         \u001b[0mself\u001b[0m\u001b[1;33m.\u001b[0m\u001b[0msolver\u001b[0m \u001b[1;33m=\u001b[0m \u001b[0mself\u001b[0m\u001b[1;33m.\u001b[0m\u001b[0mclient\u001b[0m\u001b[1;33m.\u001b[0m\u001b[0mget_solver\u001b[0m\u001b[1;33m(\u001b[0m\u001b[1;33m)\u001b[0m\u001b[1;33m\u001b[0m\u001b[1;33m\u001b[0m\u001b[0m\n\u001b[0;32m    178\u001b[0m \u001b[1;33m\u001b[0m\u001b[0m\n",
      "\u001b[1;32mC:\\ProgramData\\Miniconda3\\envs\\qiskit-work\\lib\\site-packages\\dwave\\cloud\\client\\base.py\u001b[0m in \u001b[0;36mfrom_config\u001b[1;34m(cls, config_file, profile, client, **kwargs)\u001b[0m\n\u001b[0;32m    372\u001b[0m \u001b[1;33m\u001b[0m\u001b[0m\n\u001b[0;32m    373\u001b[0m         \u001b[0mlogger\u001b[0m\u001b[1;33m.\u001b[0m\u001b[0mdebug\u001b[0m\u001b[1;33m(\u001b[0m\u001b[1;34m\"Creating %s.Client() with: %r\"\u001b[0m\u001b[1;33m,\u001b[0m \u001b[0m_client\u001b[0m\u001b[1;33m,\u001b[0m \u001b[0mconfig\u001b[0m\u001b[1;33m)\u001b[0m\u001b[1;33m\u001b[0m\u001b[1;33m\u001b[0m\u001b[0m\n\u001b[1;32m--> 374\u001b[1;33m         \u001b[1;32mreturn\u001b[0m \u001b[0m_clients\u001b[0m\u001b[1;33m[\u001b[0m\u001b[0m_client\u001b[0m\u001b[1;33m]\u001b[0m\u001b[1;33m(\u001b[0m\u001b[1;33m**\u001b[0m\u001b[0mconfig\u001b[0m\u001b[1;33m)\u001b[0m\u001b[1;33m\u001b[0m\u001b[1;33m\u001b[0m\u001b[0m\n\u001b[0m\u001b[0;32m    375\u001b[0m \u001b[1;33m\u001b[0m\u001b[0m\n\u001b[0;32m    376\u001b[0m     def _resolve_region_endpoint(self, *,\n",
      "\u001b[1;32mC:\\ProgramData\\Miniconda3\\envs\\qiskit-work\\lib\\site-packages\\dwave\\cloud\\events.py\u001b[0m in \u001b[0;36mwrapped\u001b[1;34m(*pargs, **kwargs)\u001b[0m\n\u001b[0;32m    103\u001b[0m             \u001b[0mdispatch_event\u001b[0m\u001b[1;33m(\u001b[0m\u001b[0mself\u001b[0m\u001b[1;33m.\u001b[0m\u001b[0mbefore_eventname\u001b[0m\u001b[1;33m,\u001b[0m \u001b[0mobj\u001b[0m\u001b[1;33m=\u001b[0m\u001b[0mobj\u001b[0m\u001b[1;33m,\u001b[0m \u001b[0margs\u001b[0m\u001b[1;33m=\u001b[0m\u001b[0margs\u001b[0m\u001b[1;33m)\u001b[0m\u001b[1;33m\u001b[0m\u001b[1;33m\u001b[0m\u001b[0m\n\u001b[0;32m    104\u001b[0m             \u001b[1;32mtry\u001b[0m\u001b[1;33m:\u001b[0m\u001b[1;33m\u001b[0m\u001b[1;33m\u001b[0m\u001b[0m\n\u001b[1;32m--> 105\u001b[1;33m                 \u001b[0mrval\u001b[0m \u001b[1;33m=\u001b[0m \u001b[0mfn\u001b[0m\u001b[1;33m(\u001b[0m\u001b[1;33m*\u001b[0m\u001b[0mpargs\u001b[0m\u001b[1;33m,\u001b[0m \u001b[1;33m**\u001b[0m\u001b[0mkwargs\u001b[0m\u001b[1;33m)\u001b[0m\u001b[1;33m\u001b[0m\u001b[1;33m\u001b[0m\u001b[0m\n\u001b[0m\u001b[0;32m    106\u001b[0m             \u001b[1;32mexcept\u001b[0m \u001b[0mException\u001b[0m \u001b[1;32mas\u001b[0m \u001b[0mexc\u001b[0m\u001b[1;33m:\u001b[0m\u001b[1;33m\u001b[0m\u001b[1;33m\u001b[0m\u001b[0m\n\u001b[0;32m    107\u001b[0m                 \u001b[0mdispatch_event\u001b[0m\u001b[1;33m(\u001b[0m\u001b[0mself\u001b[0m\u001b[1;33m.\u001b[0m\u001b[0mafter_eventname\u001b[0m\u001b[1;33m,\u001b[0m \u001b[0mobj\u001b[0m\u001b[1;33m=\u001b[0m\u001b[0mobj\u001b[0m\u001b[1;33m,\u001b[0m \u001b[0margs\u001b[0m\u001b[1;33m=\u001b[0m\u001b[0margs\u001b[0m\u001b[1;33m,\u001b[0m \u001b[0mexception\u001b[0m\u001b[1;33m=\u001b[0m\u001b[0mexc\u001b[0m\u001b[1;33m)\u001b[0m\u001b[1;33m\u001b[0m\u001b[1;33m\u001b[0m\u001b[0m\n",
      "\u001b[1;32mC:\\ProgramData\\Miniconda3\\envs\\qiskit-work\\lib\\site-packages\\dwave\\cloud\\client\\base.py\u001b[0m in \u001b[0;36m__init__\u001b[1;34m(self, *args, **kwargs)\u001b[0m\n\u001b[0;32m    475\u001b[0m         \u001b[0mtoken\u001b[0m \u001b[1;33m=\u001b[0m \u001b[0moptions\u001b[0m\u001b[1;33m[\u001b[0m\u001b[1;34m'token'\u001b[0m\u001b[1;33m]\u001b[0m\u001b[1;33m\u001b[0m\u001b[1;33m\u001b[0m\u001b[0m\n\u001b[0;32m    476\u001b[0m         \u001b[1;32mif\u001b[0m \u001b[1;32mnot\u001b[0m \u001b[0mtoken\u001b[0m\u001b[1;33m:\u001b[0m\u001b[1;33m\u001b[0m\u001b[1;33m\u001b[0m\u001b[0m\n\u001b[1;32m--> 477\u001b[1;33m             \u001b[1;32mraise\u001b[0m \u001b[0mValueError\u001b[0m\u001b[1;33m(\u001b[0m\u001b[1;34m\"API token not defined\"\u001b[0m\u001b[1;33m)\u001b[0m\u001b[1;33m\u001b[0m\u001b[1;33m\u001b[0m\u001b[0m\n\u001b[0m\u001b[0;32m    478\u001b[0m \u001b[1;33m\u001b[0m\u001b[0m\n\u001b[0;32m    479\u001b[0m         \u001b[1;31m# parse optional client certificate\u001b[0m\u001b[1;33m\u001b[0m\u001b[1;33m\u001b[0m\u001b[0m\n",
      "\u001b[1;31mValueError\u001b[0m: API token not defined"
     ]
    }
   ],
   "source": [
    "embedding = None\n",
    "shots = 100\n",
    "\n",
    "with open(outputFile, \"w\") as f:\n",
    "\n",
    "     optimal = common.optimal_maxcut(path)\n",
    "\n",
    "     writer = csv.writer(f)\n",
    "     writer.writerow([\"file\", \"shots\", \"qpu_anneal_time_per_sample\", \"max\", \"optimal\", \"mean\", \"sd\",\n",
    "          \"qpu_sampling_time\", \"qpu_readout_time_per_sample\", \"qpu_access_time\", \\\n",
    "          \"qpu_access_overhead_time\", \"qpu_programming_time\", \"qpu_delay_time_per_sample\", \"qpu_programming_time\", \\\n",
    "          \"total_post_processing_time\", \"post_processing_overhead_time\", \"wallclockStart\", \"wallclockEnd\", \"embedding\", \"wallTime\"])\n",
    "\n",
    "     for i in range(8):\n",
    "          x = 2**i\n",
    "          if x > 200:\n",
    "               break\n",
    "\n",
    "          embeddingCreated = True if embedding==None else False\n",
    "          print (\"Created \" if embeddingCreated else \"Reused \", \"Embedding\")\n",
    "\n",
    "          sampleset, result, embedding = maxcut.maxcut_qa(nodes, edges, shots, token, x, embedding)\n",
    "\n",
    "          # sample to file\n",
    "          timing = sampleset.info[\"timing\"]\n",
    "          data = [path, shots, timing[\"qpu_anneal_time_per_sample\"], result[\"stats\"][\"max\"], optimal, result[\"stats\"][\"mean\"], result[\"stats\"][\"sd\"],\n",
    "               timing[\"qpu_sampling_time\"], timing[\"qpu_readout_time_per_sample\"], timing[\"qpu_access_time\"], \\\n",
    "               timing[\"qpu_access_overhead_time\"], timing[\"qpu_programming_time\"], timing[\"qpu_delay_time_per_sample\"], timing[\"qpu_programming_time\"], \\\n",
    "               timing[\"total_post_processing_time\"], timing[\"post_processing_overhead_time\"], result[\"stats\"][\"wallClockStart\"], result[\"stats\"][\"wallClockEnd\"], \\\n",
    "               \"Created\" if embeddingCreated else \"Reused\", result[\"stats\"][\"wallClockEnd\"] - result[\"stats\"][\"wallClockStart\"] ]\n",
    "\n",
    "          writer.writerow(data)"
   ]
  },
  {
   "cell_type": "code",
   "execution_count": 19,
   "id": "bdfbed88",
   "metadata": {},
   "outputs": [
    {
     "name": "stdout",
     "output_type": "stream",
     "text": [
      "{'max': 441, 'mean': 438.4856, 'sd': 1.4621286550918864, 'wallClockStart': 1667457279.6667407, 'wallClockEnd': 1667457295.6176667}\n"
     ]
    },
    {
     "ename": "NameError",
     "evalue": "name 'sampleset' is not defined",
     "output_type": "error",
     "traceback": [
      "\u001b[1;31m---------------------------------------------------------------------------\u001b[0m",
      "\u001b[1;31mNameError\u001b[0m                                 Traceback (most recent call last)",
      "\u001b[1;32m~\\AppData\\Local\\Temp/ipykernel_4324/1871968360.py\u001b[0m in \u001b[0;36m<module>\u001b[1;34m\u001b[0m\n\u001b[0;32m      1\u001b[0m \u001b[0mprint\u001b[0m\u001b[1;33m(\u001b[0m\u001b[0mresult\u001b[0m\u001b[1;33m[\u001b[0m\u001b[1;34m\"stats\"\u001b[0m\u001b[1;33m]\u001b[0m\u001b[1;33m)\u001b[0m\u001b[1;33m\u001b[0m\u001b[1;33m\u001b[0m\u001b[0m\n\u001b[0;32m      2\u001b[0m \u001b[1;33m\u001b[0m\u001b[0m\n\u001b[1;32m----> 3\u001b[1;33m \u001b[0mprint\u001b[0m\u001b[1;33m(\u001b[0m\u001b[0msampleset\u001b[0m\u001b[1;33m.\u001b[0m\u001b[0minfo\u001b[0m\u001b[1;33m)\u001b[0m\u001b[1;33m\u001b[0m\u001b[1;33m\u001b[0m\u001b[0m\n\u001b[0m\u001b[0;32m      4\u001b[0m \u001b[0mprint\u001b[0m\u001b[1;33m(\u001b[0m\u001b[0mSEPERATOR\u001b[0m\u001b[1;33m)\u001b[0m\u001b[1;33m\u001b[0m\u001b[1;33m\u001b[0m\u001b[0m\n\u001b[0;32m      5\u001b[0m \u001b[0mtiming\u001b[0m \u001b[1;33m=\u001b[0m \u001b[0msampleset\u001b[0m\u001b[1;33m.\u001b[0m\u001b[0minfo\u001b[0m\u001b[1;33m[\u001b[0m\u001b[1;34m\"timing\"\u001b[0m\u001b[1;33m]\u001b[0m\u001b[1;33m\u001b[0m\u001b[1;33m\u001b[0m\u001b[0m\n",
      "\u001b[1;31mNameError\u001b[0m: name 'sampleset' is not defined"
     ]
    }
   ],
   "source": [
    "print(result[\"stats\"])\n",
    "\n",
    "print(sampleset.info)\n",
    "print(SEPERATOR)\n",
    "timing = sampleset.info[\"timing\"]\n",
    "data = [timing[\"qpu_anneal_time_per_sample\"], result[\"stats\"][\"max\"], result[\"stats\"][\"mean\"], result[\"stats\"][\"sd\"],\n",
    "    timing[\"qpu_sampling_time\"], timing[\"qpu_readout_time_per_sample\"], timing[\"qpu_access_time\"], \\\n",
    "    timing[\"qpu_access_overhead_time\"], timing[\"qpu_programming_time\"], timing[\"qpu_delay_time_per_sample\"], timing[\"qpu_programming_time\"], \\\n",
    "    timing[\"total_post_processing_time\"], timing[\"post_processing_overhead_time\"]]\n",
    "\n",
    "print (data)"
   ]
  },
  {
   "cell_type": "code",
   "execution_count": 20,
   "id": "774eb5fa",
   "metadata": {},
   "outputs": [
    {
     "ename": "ValueError",
     "evalue": "API token not defined",
     "output_type": "error",
     "traceback": [
      "\u001b[1;31m---------------------------------------------------------------------------\u001b[0m",
      "\u001b[1;31mValueError\u001b[0m                                Traceback (most recent call last)",
      "\u001b[1;32m~\\AppData\\Local\\Temp/ipykernel_4324/4228117571.py\u001b[0m in \u001b[0;36m<module>\u001b[1;34m\u001b[0m\n\u001b[1;32m----> 1\u001b[1;33m \u001b[0msampleset\u001b[0m\u001b[1;33m,\u001b[0m \u001b[0mresult\u001b[0m\u001b[1;33m,\u001b[0m \u001b[0membedding\u001b[0m \u001b[1;33m=\u001b[0m \u001b[0mmaxcut\u001b[0m\u001b[1;33m.\u001b[0m\u001b[0mmaxcut_qa\u001b[0m\u001b[1;33m(\u001b[0m\u001b[0mnodes\u001b[0m\u001b[1;33m,\u001b[0m \u001b[0medges\u001b[0m\u001b[1;33m,\u001b[0m \u001b[1;36m5000\u001b[0m\u001b[1;33m,\u001b[0m \u001b[0mtoken\u001b[0m\u001b[1;33m,\u001b[0m \u001b[1;36m1\u001b[0m\u001b[1;33m,\u001b[0m \u001b[1;32mNone\u001b[0m\u001b[1;33m)\u001b[0m\u001b[1;33m\u001b[0m\u001b[1;33m\u001b[0m\u001b[0m\n\u001b[0m",
      "\u001b[1;32m~\\QCI-TL\\github\\QC-App-Oriented-Benchmarks-maxcut-dwave\\maxcut\\ocean\\eval\\maxcut.py\u001b[0m in \u001b[0;36mmaxcut_qa\u001b[1;34m(nodes, edges, shots, token, solverTime, embedding)\u001b[0m\n\u001b[0;32m     83\u001b[0m     \u001b[0mresults\u001b[0m\u001b[1;33m[\u001b[0m\u001b[1;34m\"stats\"\u001b[0m\u001b[1;33m]\u001b[0m\u001b[1;33m[\u001b[0m\u001b[1;34m\"wallClockStart\"\u001b[0m\u001b[1;33m]\u001b[0m \u001b[1;33m=\u001b[0m \u001b[0mtime\u001b[0m\u001b[1;33m.\u001b[0m\u001b[0mtime\u001b[0m\u001b[1;33m(\u001b[0m\u001b[1;33m)\u001b[0m\u001b[1;33m\u001b[0m\u001b[1;33m\u001b[0m\u001b[0m\n\u001b[0;32m     84\u001b[0m \u001b[1;33m\u001b[0m\u001b[0m\n\u001b[1;32m---> 85\u001b[1;33m     \u001b[0mqpu\u001b[0m \u001b[1;33m=\u001b[0m \u001b[0mDWaveSampler\u001b[0m\u001b[1;33m(\u001b[0m\u001b[0mtoken\u001b[0m\u001b[1;33m=\u001b[0m\u001b[0mtoken\u001b[0m\u001b[1;33m,\u001b[0m \u001b[0msolver\u001b[0m\u001b[1;33m=\u001b[0m\u001b[1;33m{\u001b[0m\u001b[1;34m'topology__type'\u001b[0m\u001b[1;33m:\u001b[0m \u001b[1;34m'pegasus'\u001b[0m\u001b[1;33m}\u001b[0m\u001b[1;33m)\u001b[0m\u001b[1;33m\u001b[0m\u001b[1;33m\u001b[0m\u001b[0m\n\u001b[0m\u001b[0;32m     86\u001b[0m \u001b[1;33m\u001b[0m\u001b[0m\n\u001b[0;32m     87\u001b[0m     \u001b[1;32mif\u001b[0m \u001b[1;33m(\u001b[0m\u001b[0membedding\u001b[0m\u001b[1;33m==\u001b[0m\u001b[1;32mNone\u001b[0m\u001b[1;33m)\u001b[0m\u001b[1;33m:\u001b[0m\u001b[1;33m\u001b[0m\u001b[1;33m\u001b[0m\u001b[0m\n",
      "\u001b[1;32mC:\\ProgramData\\Miniconda3\\envs\\qiskit-work\\lib\\site-packages\\dwave\\system\\samplers\\dwave_sampler.py\u001b[0m in \u001b[0;36m__init__\u001b[1;34m(self, failover, retry_interval, **config)\u001b[0m\n\u001b[0;32m    174\u001b[0m         \u001b[0mdefaults\u001b[0m\u001b[1;33m.\u001b[0m\u001b[0mupdate\u001b[0m\u001b[1;33m(\u001b[0m\u001b[0msolver\u001b[0m\u001b[1;33m=\u001b[0m\u001b[0mdict\u001b[0m\u001b[1;33m(\u001b[0m\u001b[0morder_by\u001b[0m\u001b[1;33m=\u001b[0m\u001b[1;34m'-num_active_qubits'\u001b[0m\u001b[1;33m)\u001b[0m\u001b[1;33m)\u001b[0m\u001b[1;33m\u001b[0m\u001b[1;33m\u001b[0m\u001b[0m\n\u001b[0;32m    175\u001b[0m \u001b[1;33m\u001b[0m\u001b[0m\n\u001b[1;32m--> 176\u001b[1;33m         \u001b[0mself\u001b[0m\u001b[1;33m.\u001b[0m\u001b[0mclient\u001b[0m \u001b[1;33m=\u001b[0m \u001b[0mClient\u001b[0m\u001b[1;33m.\u001b[0m\u001b[0mfrom_config\u001b[0m\u001b[1;33m(\u001b[0m\u001b[1;33m**\u001b[0m\u001b[0mconfig\u001b[0m\u001b[1;33m)\u001b[0m\u001b[1;33m\u001b[0m\u001b[1;33m\u001b[0m\u001b[0m\n\u001b[0m\u001b[0;32m    177\u001b[0m         \u001b[0mself\u001b[0m\u001b[1;33m.\u001b[0m\u001b[0msolver\u001b[0m \u001b[1;33m=\u001b[0m \u001b[0mself\u001b[0m\u001b[1;33m.\u001b[0m\u001b[0mclient\u001b[0m\u001b[1;33m.\u001b[0m\u001b[0mget_solver\u001b[0m\u001b[1;33m(\u001b[0m\u001b[1;33m)\u001b[0m\u001b[1;33m\u001b[0m\u001b[1;33m\u001b[0m\u001b[0m\n\u001b[0;32m    178\u001b[0m \u001b[1;33m\u001b[0m\u001b[0m\n",
      "\u001b[1;32mC:\\ProgramData\\Miniconda3\\envs\\qiskit-work\\lib\\site-packages\\dwave\\cloud\\client\\base.py\u001b[0m in \u001b[0;36mfrom_config\u001b[1;34m(cls, config_file, profile, client, **kwargs)\u001b[0m\n\u001b[0;32m    372\u001b[0m \u001b[1;33m\u001b[0m\u001b[0m\n\u001b[0;32m    373\u001b[0m         \u001b[0mlogger\u001b[0m\u001b[1;33m.\u001b[0m\u001b[0mdebug\u001b[0m\u001b[1;33m(\u001b[0m\u001b[1;34m\"Creating %s.Client() with: %r\"\u001b[0m\u001b[1;33m,\u001b[0m \u001b[0m_client\u001b[0m\u001b[1;33m,\u001b[0m \u001b[0mconfig\u001b[0m\u001b[1;33m)\u001b[0m\u001b[1;33m\u001b[0m\u001b[1;33m\u001b[0m\u001b[0m\n\u001b[1;32m--> 374\u001b[1;33m         \u001b[1;32mreturn\u001b[0m \u001b[0m_clients\u001b[0m\u001b[1;33m[\u001b[0m\u001b[0m_client\u001b[0m\u001b[1;33m]\u001b[0m\u001b[1;33m(\u001b[0m\u001b[1;33m**\u001b[0m\u001b[0mconfig\u001b[0m\u001b[1;33m)\u001b[0m\u001b[1;33m\u001b[0m\u001b[1;33m\u001b[0m\u001b[0m\n\u001b[0m\u001b[0;32m    375\u001b[0m \u001b[1;33m\u001b[0m\u001b[0m\n\u001b[0;32m    376\u001b[0m     def _resolve_region_endpoint(self, *,\n",
      "\u001b[1;32mC:\\ProgramData\\Miniconda3\\envs\\qiskit-work\\lib\\site-packages\\dwave\\cloud\\events.py\u001b[0m in \u001b[0;36mwrapped\u001b[1;34m(*pargs, **kwargs)\u001b[0m\n\u001b[0;32m    103\u001b[0m             \u001b[0mdispatch_event\u001b[0m\u001b[1;33m(\u001b[0m\u001b[0mself\u001b[0m\u001b[1;33m.\u001b[0m\u001b[0mbefore_eventname\u001b[0m\u001b[1;33m,\u001b[0m \u001b[0mobj\u001b[0m\u001b[1;33m=\u001b[0m\u001b[0mobj\u001b[0m\u001b[1;33m,\u001b[0m \u001b[0margs\u001b[0m\u001b[1;33m=\u001b[0m\u001b[0margs\u001b[0m\u001b[1;33m)\u001b[0m\u001b[1;33m\u001b[0m\u001b[1;33m\u001b[0m\u001b[0m\n\u001b[0;32m    104\u001b[0m             \u001b[1;32mtry\u001b[0m\u001b[1;33m:\u001b[0m\u001b[1;33m\u001b[0m\u001b[1;33m\u001b[0m\u001b[0m\n\u001b[1;32m--> 105\u001b[1;33m                 \u001b[0mrval\u001b[0m \u001b[1;33m=\u001b[0m \u001b[0mfn\u001b[0m\u001b[1;33m(\u001b[0m\u001b[1;33m*\u001b[0m\u001b[0mpargs\u001b[0m\u001b[1;33m,\u001b[0m \u001b[1;33m**\u001b[0m\u001b[0mkwargs\u001b[0m\u001b[1;33m)\u001b[0m\u001b[1;33m\u001b[0m\u001b[1;33m\u001b[0m\u001b[0m\n\u001b[0m\u001b[0;32m    106\u001b[0m             \u001b[1;32mexcept\u001b[0m \u001b[0mException\u001b[0m \u001b[1;32mas\u001b[0m \u001b[0mexc\u001b[0m\u001b[1;33m:\u001b[0m\u001b[1;33m\u001b[0m\u001b[1;33m\u001b[0m\u001b[0m\n\u001b[0;32m    107\u001b[0m                 \u001b[0mdispatch_event\u001b[0m\u001b[1;33m(\u001b[0m\u001b[0mself\u001b[0m\u001b[1;33m.\u001b[0m\u001b[0mafter_eventname\u001b[0m\u001b[1;33m,\u001b[0m \u001b[0mobj\u001b[0m\u001b[1;33m=\u001b[0m\u001b[0mobj\u001b[0m\u001b[1;33m,\u001b[0m \u001b[0margs\u001b[0m\u001b[1;33m=\u001b[0m\u001b[0margs\u001b[0m\u001b[1;33m,\u001b[0m \u001b[0mexception\u001b[0m\u001b[1;33m=\u001b[0m\u001b[0mexc\u001b[0m\u001b[1;33m)\u001b[0m\u001b[1;33m\u001b[0m\u001b[1;33m\u001b[0m\u001b[0m\n",
      "\u001b[1;32mC:\\ProgramData\\Miniconda3\\envs\\qiskit-work\\lib\\site-packages\\dwave\\cloud\\client\\base.py\u001b[0m in \u001b[0;36m__init__\u001b[1;34m(self, *args, **kwargs)\u001b[0m\n\u001b[0;32m    475\u001b[0m         \u001b[0mtoken\u001b[0m \u001b[1;33m=\u001b[0m \u001b[0moptions\u001b[0m\u001b[1;33m[\u001b[0m\u001b[1;34m'token'\u001b[0m\u001b[1;33m]\u001b[0m\u001b[1;33m\u001b[0m\u001b[1;33m\u001b[0m\u001b[0m\n\u001b[0;32m    476\u001b[0m         \u001b[1;32mif\u001b[0m \u001b[1;32mnot\u001b[0m \u001b[0mtoken\u001b[0m\u001b[1;33m:\u001b[0m\u001b[1;33m\u001b[0m\u001b[1;33m\u001b[0m\u001b[0m\n\u001b[1;32m--> 477\u001b[1;33m             \u001b[1;32mraise\u001b[0m \u001b[0mValueError\u001b[0m\u001b[1;33m(\u001b[0m\u001b[1;34m\"API token not defined\"\u001b[0m\u001b[1;33m)\u001b[0m\u001b[1;33m\u001b[0m\u001b[1;33m\u001b[0m\u001b[0m\n\u001b[0m\u001b[0;32m    478\u001b[0m \u001b[1;33m\u001b[0m\u001b[0m\n\u001b[0;32m    479\u001b[0m         \u001b[1;31m# parse optional client certificate\u001b[0m\u001b[1;33m\u001b[0m\u001b[1;33m\u001b[0m\u001b[0m\n",
      "\u001b[1;31mValueError\u001b[0m: API token not defined"
     ]
    }
   ],
   "source": [
    "sampleset, result, embedding = maxcut.maxcut_qa(nodes, edges, 5000, token, 1, None)"
   ]
  },
  {
   "cell_type": "code",
   "execution_count": 21,
   "id": "35c3146c",
   "metadata": {},
   "outputs": [
    {
     "ename": "ValueError",
     "evalue": "API token not defined",
     "output_type": "error",
     "traceback": [
      "\u001b[1;31m---------------------------------------------------------------------------\u001b[0m",
      "\u001b[1;31mValueError\u001b[0m                                Traceback (most recent call last)",
      "\u001b[1;32m~\\AppData\\Local\\Temp/ipykernel_4324/927267493.py\u001b[0m in \u001b[0;36m<module>\u001b[1;34m\u001b[0m\n\u001b[1;32m----> 1\u001b[1;33m \u001b[0msampleset\u001b[0m\u001b[1;33m,\u001b[0m \u001b[0mresult\u001b[0m\u001b[1;33m,\u001b[0m \u001b[0ma\u001b[0m \u001b[1;33m=\u001b[0m \u001b[0mmaxcut\u001b[0m\u001b[1;33m.\u001b[0m\u001b[0mmaxcut_qa\u001b[0m\u001b[1;33m(\u001b[0m\u001b[0mnodes\u001b[0m\u001b[1;33m,\u001b[0m \u001b[0medges\u001b[0m\u001b[1;33m,\u001b[0m \u001b[1;36m5000\u001b[0m\u001b[1;33m,\u001b[0m \u001b[0mtoken\u001b[0m\u001b[1;33m,\u001b[0m \u001b[1;36m16\u001b[0m\u001b[1;33m,\u001b[0m \u001b[0membedding\u001b[0m\u001b[1;33m)\u001b[0m\u001b[1;33m\u001b[0m\u001b[1;33m\u001b[0m\u001b[0m\n\u001b[0m\u001b[0;32m      2\u001b[0m \u001b[1;33m\u001b[0m\u001b[0m\n\u001b[0;32m      3\u001b[0m \u001b[1;31m# sample to file\u001b[0m\u001b[1;33m\u001b[0m\u001b[1;33m\u001b[0m\u001b[0m\n\u001b[0;32m      4\u001b[0m \u001b[0mtiming\u001b[0m \u001b[1;33m=\u001b[0m \u001b[0msampleset\u001b[0m\u001b[1;33m.\u001b[0m\u001b[0minfo\u001b[0m\u001b[1;33m[\u001b[0m\u001b[1;34m\"timing\"\u001b[0m\u001b[1;33m]\u001b[0m\u001b[1;33m\u001b[0m\u001b[1;33m\u001b[0m\u001b[0m\n\u001b[0;32m      5\u001b[0m data = [path, shots, timing[\"qpu_anneal_time_per_sample\"], result[\"stats\"][\"max\"], optimal, result[\"stats\"][\"mean\"], result[\"stats\"][\"sd\"],\n",
      "\u001b[1;32m~\\QCI-TL\\github\\QC-App-Oriented-Benchmarks-maxcut-dwave\\maxcut\\ocean\\eval\\maxcut.py\u001b[0m in \u001b[0;36mmaxcut_qa\u001b[1;34m(nodes, edges, shots, token, solverTime, embedding)\u001b[0m\n\u001b[0;32m     83\u001b[0m     \u001b[0mresults\u001b[0m\u001b[1;33m[\u001b[0m\u001b[1;34m\"stats\"\u001b[0m\u001b[1;33m]\u001b[0m\u001b[1;33m[\u001b[0m\u001b[1;34m\"wallClockStart\"\u001b[0m\u001b[1;33m]\u001b[0m \u001b[1;33m=\u001b[0m \u001b[0mtime\u001b[0m\u001b[1;33m.\u001b[0m\u001b[0mtime\u001b[0m\u001b[1;33m(\u001b[0m\u001b[1;33m)\u001b[0m\u001b[1;33m\u001b[0m\u001b[1;33m\u001b[0m\u001b[0m\n\u001b[0;32m     84\u001b[0m \u001b[1;33m\u001b[0m\u001b[0m\n\u001b[1;32m---> 85\u001b[1;33m     \u001b[0mqpu\u001b[0m \u001b[1;33m=\u001b[0m \u001b[0mDWaveSampler\u001b[0m\u001b[1;33m(\u001b[0m\u001b[0mtoken\u001b[0m\u001b[1;33m=\u001b[0m\u001b[0mtoken\u001b[0m\u001b[1;33m,\u001b[0m \u001b[0msolver\u001b[0m\u001b[1;33m=\u001b[0m\u001b[1;33m{\u001b[0m\u001b[1;34m'topology__type'\u001b[0m\u001b[1;33m:\u001b[0m \u001b[1;34m'pegasus'\u001b[0m\u001b[1;33m}\u001b[0m\u001b[1;33m)\u001b[0m\u001b[1;33m\u001b[0m\u001b[1;33m\u001b[0m\u001b[0m\n\u001b[0m\u001b[0;32m     86\u001b[0m \u001b[1;33m\u001b[0m\u001b[0m\n\u001b[0;32m     87\u001b[0m     \u001b[1;32mif\u001b[0m \u001b[1;33m(\u001b[0m\u001b[0membedding\u001b[0m\u001b[1;33m==\u001b[0m\u001b[1;32mNone\u001b[0m\u001b[1;33m)\u001b[0m\u001b[1;33m:\u001b[0m\u001b[1;33m\u001b[0m\u001b[1;33m\u001b[0m\u001b[0m\n",
      "\u001b[1;32mC:\\ProgramData\\Miniconda3\\envs\\qiskit-work\\lib\\site-packages\\dwave\\system\\samplers\\dwave_sampler.py\u001b[0m in \u001b[0;36m__init__\u001b[1;34m(self, failover, retry_interval, **config)\u001b[0m\n\u001b[0;32m    174\u001b[0m         \u001b[0mdefaults\u001b[0m\u001b[1;33m.\u001b[0m\u001b[0mupdate\u001b[0m\u001b[1;33m(\u001b[0m\u001b[0msolver\u001b[0m\u001b[1;33m=\u001b[0m\u001b[0mdict\u001b[0m\u001b[1;33m(\u001b[0m\u001b[0morder_by\u001b[0m\u001b[1;33m=\u001b[0m\u001b[1;34m'-num_active_qubits'\u001b[0m\u001b[1;33m)\u001b[0m\u001b[1;33m)\u001b[0m\u001b[1;33m\u001b[0m\u001b[1;33m\u001b[0m\u001b[0m\n\u001b[0;32m    175\u001b[0m \u001b[1;33m\u001b[0m\u001b[0m\n\u001b[1;32m--> 176\u001b[1;33m         \u001b[0mself\u001b[0m\u001b[1;33m.\u001b[0m\u001b[0mclient\u001b[0m \u001b[1;33m=\u001b[0m \u001b[0mClient\u001b[0m\u001b[1;33m.\u001b[0m\u001b[0mfrom_config\u001b[0m\u001b[1;33m(\u001b[0m\u001b[1;33m**\u001b[0m\u001b[0mconfig\u001b[0m\u001b[1;33m)\u001b[0m\u001b[1;33m\u001b[0m\u001b[1;33m\u001b[0m\u001b[0m\n\u001b[0m\u001b[0;32m    177\u001b[0m         \u001b[0mself\u001b[0m\u001b[1;33m.\u001b[0m\u001b[0msolver\u001b[0m \u001b[1;33m=\u001b[0m \u001b[0mself\u001b[0m\u001b[1;33m.\u001b[0m\u001b[0mclient\u001b[0m\u001b[1;33m.\u001b[0m\u001b[0mget_solver\u001b[0m\u001b[1;33m(\u001b[0m\u001b[1;33m)\u001b[0m\u001b[1;33m\u001b[0m\u001b[1;33m\u001b[0m\u001b[0m\n\u001b[0;32m    178\u001b[0m \u001b[1;33m\u001b[0m\u001b[0m\n",
      "\u001b[1;32mC:\\ProgramData\\Miniconda3\\envs\\qiskit-work\\lib\\site-packages\\dwave\\cloud\\client\\base.py\u001b[0m in \u001b[0;36mfrom_config\u001b[1;34m(cls, config_file, profile, client, **kwargs)\u001b[0m\n\u001b[0;32m    372\u001b[0m \u001b[1;33m\u001b[0m\u001b[0m\n\u001b[0;32m    373\u001b[0m         \u001b[0mlogger\u001b[0m\u001b[1;33m.\u001b[0m\u001b[0mdebug\u001b[0m\u001b[1;33m(\u001b[0m\u001b[1;34m\"Creating %s.Client() with: %r\"\u001b[0m\u001b[1;33m,\u001b[0m \u001b[0m_client\u001b[0m\u001b[1;33m,\u001b[0m \u001b[0mconfig\u001b[0m\u001b[1;33m)\u001b[0m\u001b[1;33m\u001b[0m\u001b[1;33m\u001b[0m\u001b[0m\n\u001b[1;32m--> 374\u001b[1;33m         \u001b[1;32mreturn\u001b[0m \u001b[0m_clients\u001b[0m\u001b[1;33m[\u001b[0m\u001b[0m_client\u001b[0m\u001b[1;33m]\u001b[0m\u001b[1;33m(\u001b[0m\u001b[1;33m**\u001b[0m\u001b[0mconfig\u001b[0m\u001b[1;33m)\u001b[0m\u001b[1;33m\u001b[0m\u001b[1;33m\u001b[0m\u001b[0m\n\u001b[0m\u001b[0;32m    375\u001b[0m \u001b[1;33m\u001b[0m\u001b[0m\n\u001b[0;32m    376\u001b[0m     def _resolve_region_endpoint(self, *,\n",
      "\u001b[1;32mC:\\ProgramData\\Miniconda3\\envs\\qiskit-work\\lib\\site-packages\\dwave\\cloud\\events.py\u001b[0m in \u001b[0;36mwrapped\u001b[1;34m(*pargs, **kwargs)\u001b[0m\n\u001b[0;32m    103\u001b[0m             \u001b[0mdispatch_event\u001b[0m\u001b[1;33m(\u001b[0m\u001b[0mself\u001b[0m\u001b[1;33m.\u001b[0m\u001b[0mbefore_eventname\u001b[0m\u001b[1;33m,\u001b[0m \u001b[0mobj\u001b[0m\u001b[1;33m=\u001b[0m\u001b[0mobj\u001b[0m\u001b[1;33m,\u001b[0m \u001b[0margs\u001b[0m\u001b[1;33m=\u001b[0m\u001b[0margs\u001b[0m\u001b[1;33m)\u001b[0m\u001b[1;33m\u001b[0m\u001b[1;33m\u001b[0m\u001b[0m\n\u001b[0;32m    104\u001b[0m             \u001b[1;32mtry\u001b[0m\u001b[1;33m:\u001b[0m\u001b[1;33m\u001b[0m\u001b[1;33m\u001b[0m\u001b[0m\n\u001b[1;32m--> 105\u001b[1;33m                 \u001b[0mrval\u001b[0m \u001b[1;33m=\u001b[0m \u001b[0mfn\u001b[0m\u001b[1;33m(\u001b[0m\u001b[1;33m*\u001b[0m\u001b[0mpargs\u001b[0m\u001b[1;33m,\u001b[0m \u001b[1;33m**\u001b[0m\u001b[0mkwargs\u001b[0m\u001b[1;33m)\u001b[0m\u001b[1;33m\u001b[0m\u001b[1;33m\u001b[0m\u001b[0m\n\u001b[0m\u001b[0;32m    106\u001b[0m             \u001b[1;32mexcept\u001b[0m \u001b[0mException\u001b[0m \u001b[1;32mas\u001b[0m \u001b[0mexc\u001b[0m\u001b[1;33m:\u001b[0m\u001b[1;33m\u001b[0m\u001b[1;33m\u001b[0m\u001b[0m\n\u001b[0;32m    107\u001b[0m                 \u001b[0mdispatch_event\u001b[0m\u001b[1;33m(\u001b[0m\u001b[0mself\u001b[0m\u001b[1;33m.\u001b[0m\u001b[0mafter_eventname\u001b[0m\u001b[1;33m,\u001b[0m \u001b[0mobj\u001b[0m\u001b[1;33m=\u001b[0m\u001b[0mobj\u001b[0m\u001b[1;33m,\u001b[0m \u001b[0margs\u001b[0m\u001b[1;33m=\u001b[0m\u001b[0margs\u001b[0m\u001b[1;33m,\u001b[0m \u001b[0mexception\u001b[0m\u001b[1;33m=\u001b[0m\u001b[0mexc\u001b[0m\u001b[1;33m)\u001b[0m\u001b[1;33m\u001b[0m\u001b[1;33m\u001b[0m\u001b[0m\n",
      "\u001b[1;32mC:\\ProgramData\\Miniconda3\\envs\\qiskit-work\\lib\\site-packages\\dwave\\cloud\\client\\base.py\u001b[0m in \u001b[0;36m__init__\u001b[1;34m(self, *args, **kwargs)\u001b[0m\n\u001b[0;32m    475\u001b[0m         \u001b[0mtoken\u001b[0m \u001b[1;33m=\u001b[0m \u001b[0moptions\u001b[0m\u001b[1;33m[\u001b[0m\u001b[1;34m'token'\u001b[0m\u001b[1;33m]\u001b[0m\u001b[1;33m\u001b[0m\u001b[1;33m\u001b[0m\u001b[0m\n\u001b[0;32m    476\u001b[0m         \u001b[1;32mif\u001b[0m \u001b[1;32mnot\u001b[0m \u001b[0mtoken\u001b[0m\u001b[1;33m:\u001b[0m\u001b[1;33m\u001b[0m\u001b[1;33m\u001b[0m\u001b[0m\n\u001b[1;32m--> 477\u001b[1;33m             \u001b[1;32mraise\u001b[0m \u001b[0mValueError\u001b[0m\u001b[1;33m(\u001b[0m\u001b[1;34m\"API token not defined\"\u001b[0m\u001b[1;33m)\u001b[0m\u001b[1;33m\u001b[0m\u001b[1;33m\u001b[0m\u001b[0m\n\u001b[0m\u001b[0;32m    478\u001b[0m \u001b[1;33m\u001b[0m\u001b[0m\n\u001b[0;32m    479\u001b[0m         \u001b[1;31m# parse optional client certificate\u001b[0m\u001b[1;33m\u001b[0m\u001b[1;33m\u001b[0m\u001b[0m\n",
      "\u001b[1;31mValueError\u001b[0m: API token not defined"
     ]
    }
   ],
   "source": [
    "sampleset, result, a = maxcut.maxcut_qa(nodes, edges, 5000, token, 16, embedding)\n",
    "\n",
    "# sample to file\n",
    "timing = sampleset.info[\"timing\"]\n",
    "data = [path, shots, timing[\"qpu_anneal_time_per_sample\"], result[\"stats\"][\"max\"], optimal, result[\"stats\"][\"mean\"], result[\"stats\"][\"sd\"],\n",
    "    timing[\"qpu_sampling_time\"], timing[\"qpu_readout_time_per_sample\"], timing[\"qpu_access_time\"], \\\n",
    "    timing[\"qpu_access_overhead_time\"], timing[\"qpu_programming_time\"], timing[\"qpu_delay_time_per_sample\"], timing[\"qpu_programming_time\"], \\\n",
    "    timing[\"total_post_processing_time\"], timing[\"post_processing_overhead_time\"], result[\"stats\"][\"wallClockStart\"], result[\"stats\"][\"wallClockEnd\"], \\\n",
    "    \"Created\" if embeddingCreated else \"Reused\", result[\"stats\"][\"wallClockEnd\"] - result[\"stats\"][\"wallClockStart\"] ]\n",
    "\n",
    "writer.writerow(data)"
   ]
  },
  {
   "cell_type": "code",
   "execution_count": null,
   "id": "d8c3c05d",
   "metadata": {},
   "outputs": [],
   "source": []
  }
 ],
 "metadata": {
  "kernelspec": {
   "display_name": "qiskit-test-new",
   "language": "python",
   "name": "qiskit-test-new"
  },
  "language_info": {
   "codemirror_mode": {
    "name": "ipython",
    "version": 3
   },
   "file_extension": ".py",
   "mimetype": "text/x-python",
   "name": "python",
   "nbconvert_exporter": "python",
   "pygments_lexer": "ipython3",
   "version": "3.9.7"
  }
 },
 "nbformat": 4,
 "nbformat_minor": 5
}
