{
 "cells": [
  {
   "cell_type": "markdown",
   "metadata": {},
   "source": [
    "### QED-C Prototype Benchmarks - Qiskit Version\n",
    "The notebook contains a suite of prototype application benchmarks for the IBM Qiskit API.\n",
    "Configure and run the cell below with the desired execution settings.\n",
    "Then execute the remaining cells, each containing one prototype benchmark program."
   ]
  },
  {
   "cell_type": "code",
   "execution_count": null,
   "metadata": {
    "scrolled": true
   },
   "outputs": [],
   "source": [
    "min_qubits=2\n",
    "max_qubits=8\n",
    "max_circuits=3\n",
    "num_shots=1000\n",
    "\n",
    "backend_id=\"qasm_simulator\"\n",
    "hub=\"ibm-q\"; group=\"open\"; project=\"main\"\n",
    "provider_backend = None\n",
    "exec_options = None\n",
    "\n",
    "# # *** If using IBMQ hardware, run this once to authenticate\n",
    "# from qiskit import IBMQ\n",
    "# IBMQ.save_account('YOUR_API_TOKEN_HERE')\n",
    "\n",
    "# # *** If you are part of an IBMQ group, set hub, group, and project name here\n",
    "# hub=\"YOUR_HUB_NAME\"\n",
    "# group=\"YOUR_GROUP_NAME\"\n",
    "# project=\"YOUR_PROJECT_NAME\"\n",
    "\n",
    "# # *** This example shows how to specify the backend using a known \"backend_id\"\n",
    "# # Use 'sabre' layout for IBM backends\n",
    "# exec_options = { \"optimization_level\":3, \"layout_method\":'sabre', \"routing_method\":'sabre' }\n",
    "# backend_id=\"ibmq_belem\"\n",
    "\n",
    "# # *** Here's an example of using a typical custom provider backend (e.g. AQT simulator)\n",
    "# import os\n",
    "# from qiskit_aqt_provider import AQTProvider\n",
    "# provider = AQTProvider(os.environ.get('AQT_ACCESS_KEY'))    # get your key from environment\n",
    "# provider_backend = provider.backends.aqt_qasm_simulator_noise_1\n",
    "# backend_id=\"aqt_qasm_simulator_noise_1\"\n",
    "\n",
    "# # An example using IonQ provider\n",
    "# from qiskit_ionq import IonQProvider\n",
    "# provider = IonQProvider()   # Be sure to set the QISKIT_IONQ_API_TOKEN environment variable\n",
    "# provider_backend = provider.get_backend(\"ionq_qpu\")\n",
    "# backend_id=\"ionq_qpu\"\n",
    "\n",
    "# # *** Use these lines when running on hardware backend, to limit use of resources\n",
    "min_qubits=4\n",
    "max_qubits=8\n",
    "max_circuits=3\n",
    "num_shots=4000"
   ]
  },
  {
   "cell_type": "code",
   "execution_count": null,
   "metadata": {
    "scrolled": false
   },
   "outputs": [],
   "source": [
    "#%run bernstein-vazirani/qiskit/maxcut_benchmark.py\n",
    "import sys\n",
    "sys.path.insert(1, \"maxcut/qiskit\")\n",
    "import maxcut_benchmark\n",
    "\n",
    "# set noise to None for testing\n",
    "import execute\n",
    "execute.set_noise_model(None)\n",
    "\n",
    "maxcut_benchmark.verbose=False\n",
    "\n",
    "maxcut_benchmark.run(min_qubits=min_qubits, max_qubits=max_qubits, max_circuits=max_circuits, num_shots=num_shots,\n",
    "                method=1, rounds=1,\n",
    "                backend_id=backend_id, provider_backend=provider_backend,\n",
    "                hub=hub, group=group, project=project, exec_options=exec_options)"
   ]
  },
  {
   "cell_type": "code",
   "execution_count": null,
   "metadata": {
    "scrolled": false
   },
   "outputs": [],
   "source": [
    "#%run bernstein-vazirani/qiskit/maxcut_benchmark.py\n",
    "import sys\n",
    "sys.path.insert(1, \"maxcut/qiskit\")\n",
    "import maxcut_benchmark\n",
    "\n",
    "# set noise to None for testing\n",
    "import execute\n",
    "execute.set_noise_model(None)\n",
    "\n",
    "maxcut_benchmark.verbose=False\n",
    "\n",
    "score_metric=['approx_ratio', 'fidelity']\n",
    "x_metric=['cumulative_elapsed_time', 'cumulative_depth']\n",
    "\n",
    "maxcut_benchmark.run(min_qubits=min_qubits, max_qubits=max_qubits, max_circuits=max_circuits, num_shots=num_shots,\n",
    "                method=2, rounds=1,\n",
    "                score_metric=score_metric, x_metric=x_metric, num_x_bins=15, y_size=1.5, max_iter=15,\n",
    "                backend_id=backend_id, provider_backend=provider_backend,\n",
    "                hub=hub, group=group, project=project, exec_options=exec_options)"
   ]
  },
  {
   "cell_type": "code",
   "execution_count": null,
   "metadata": {
    "scrolled": true
   },
   "outputs": [],
   "source": [
    "maxcut_benchmark.QC_.draw('mpl',scale=1)\n",
    "#print(circuit)"
   ]
  },
  {
   "cell_type": "markdown",
   "metadata": {},
   "source": [
    "\n",
    "The next cell is an auto-generated circuit with beta and gamma set to the optimal parameters (in terms of pi)\n"
   ]
  },
  {
   "cell_type": "code",
   "execution_count": null,
   "metadata": {},
   "outputs": [],
   "source": [
    "from qiskit import QuantumCircuit, QuantumRegister, ClassicalRegister\n",
    "\n",
    "beta = 0.08\n",
    "gamma = -0.094\n",
    "cycle_time = 0\n",
    "\n",
    "qr = QuantumRegister(4)\n",
    "cr = ClassicalRegister(4)\n",
    "qc = QuantumCircuit(qr, cr, name=\"main\")\n",
    "qc.h(qr[0])\n",
    "qc.h(qr[1])\n",
    "qc.h(qr[2])\n",
    "qc.h(qr[3])\n",
    "qc.cx(qr[0], qr[1])\n",
    "qc.rz(2*3.14159*gamma, qr[1])\n",
    "qc.cx(qr[0], qr[1])\n",
    "qc.cx(qr[0], qr[3])\n",
    "qc.rz(2*3.14159*gamma, qr[3])\n",
    "qc.cx(qr[0], qr[3])\n",
    "qc.cx(qr[0], qr[2])\n",
    "qc.rz(2*3.14159*gamma, qr[2])\n",
    "qc.cx(qr[0], qr[2])\n",
    "qc.cx(qr[1], qr[2])\n",
    "qc.rz(2*3.14159*gamma, qr[2])\n",
    "qc.cx(qr[1], qr[2])\n",
    "qc.cx(qr[1], qr[3])\n",
    "qc.rz(2*3.14159*gamma, qr[3])\n",
    "qc.cx(qr[1], qr[3])\n",
    "qc.cx(qr[2], qr[3])\n",
    "qc.rz(2*3.14159*gamma, qr[3])\n",
    "qc.cx(qr[2], qr[3])\n",
    "qc.rx(2*3.14159*beta, qr[0])\n",
    "qc.rx(2*3.14159*beta, qr[1])\n",
    "qc.rx(2*3.14159*beta, qr[2])\n",
    "qc.rx(2*3.14159*beta, qr[3])\n",
    "qc.measure(qr[0], cr[0])\n",
    "qc.measure(qr[1], cr[1])\n",
    "qc.measure(qr[2], cr[2])\n",
    "qc.measure(qr[3], cr[3])\n",
    "\n",
    "from qiskit import execute, Aer\n",
    "backend = Aer.get_backend(\"qasm_simulator\")  # Use Aer qasm_simulator\n",
    "\n",
    "job = execute(qc, backend, shots=1000)\n",
    "result = job.result()\n",
    "counts = result.get_counts(qc)\n",
    "print(\"Total counts are:\", counts)\n",
    "\n",
    "# Draw the circuit\n",
    "print(qc)\n",
    "\n",
    "# Plot a histogram\n",
    "from qiskit.visualization import plot_histogram\n",
    "plot_histogram(counts)\n"
   ]
  },
  {
   "cell_type": "code",
   "execution_count": null,
   "metadata": {},
   "outputs": [],
   "source": []
  }
 ],
 "metadata": {
  "kernelspec": {
   "display_name": "Python 3",
   "language": "python",
   "name": "python3"
  },
  "language_info": {
   "codemirror_mode": {
    "name": "ipython",
    "version": 3
   },
   "file_extension": ".py",
   "mimetype": "text/x-python",
   "name": "python",
   "nbconvert_exporter": "python",
   "pygments_lexer": "ipython3",
   "version": "3.8.5"
  }
 },
 "nbformat": 4,
 "nbformat_minor": 4
}
